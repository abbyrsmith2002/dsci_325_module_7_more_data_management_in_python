{
 "cells": [
  {
   "cell_type": "markdown",
   "id": "2d129329",
   "metadata": {},
   "source": [
    "## Colab Prep\n",
    "\n",
    "Execute the following code cells to whenever you open/restart the notebook in Google Colab."
   ]
  },
  {
   "cell_type": "code",
   "execution_count": 1,
   "id": "7b375479",
   "metadata": {},
   "outputs": [
    {
     "name": "stdout",
     "output_type": "stream",
     "text": [
      "Requirement already satisfied: polars[all] in c:\\users\\ng0471lb\\appdata\\local\\anaconda3\\envs\\polars\\lib\\site-packages (1.6.0)\n",
      "Requirement already satisfied: numpy>=1.16.0 in c:\\users\\ng0471lb\\appdata\\local\\anaconda3\\envs\\polars\\lib\\site-packages (from polars[all]) (2.1.0)\n",
      "Requirement already satisfied: pandas in c:\\users\\ng0471lb\\appdata\\local\\anaconda3\\envs\\polars\\lib\\site-packages (from polars[all]) (2.2.2)\n",
      "Requirement already satisfied: pyarrow>=7.0.0 in c:\\users\\ng0471lb\\appdata\\local\\anaconda3\\envs\\polars\\lib\\site-packages (from polars[all]) (17.0.0)\n",
      "Requirement already satisfied: pydantic in c:\\users\\ng0471lb\\appdata\\local\\anaconda3\\envs\\polars\\lib\\site-packages (from polars[all]) (2.9.0)\n",
      "Requirement already satisfied: nest-asyncio in c:\\users\\ng0471lb\\appdata\\local\\anaconda3\\envs\\polars\\lib\\site-packages (from polars[all]) (1.6.0)\n",
      "Requirement already satisfied: fsspec in c:\\users\\ng0471lb\\appdata\\local\\anaconda3\\envs\\polars\\lib\\site-packages (from polars[all]) (2024.9.0)\n",
      "Requirement already satisfied: deltalake>=0.15.0 in c:\\users\\ng0471lb\\appdata\\local\\anaconda3\\envs\\polars\\lib\\site-packages (from polars[all]) (0.19.2)\n",
      "Requirement already satisfied: pyiceberg>=0.5.0 in c:\\users\\ng0471lb\\appdata\\local\\anaconda3\\envs\\polars\\lib\\site-packages (from polars[all]) (0.7.1)\n",
      "Requirement already satisfied: gevent in c:\\users\\ng0471lb\\appdata\\local\\anaconda3\\envs\\polars\\lib\\site-packages (from polars[all]) (24.2.1)\n",
      "Requirement already satisfied: cloudpickle in c:\\users\\ng0471lb\\appdata\\local\\anaconda3\\envs\\polars\\lib\\site-packages (from polars[all]) (3.0.0)\n",
      "Requirement already satisfied: matplotlib in c:\\users\\ng0471lb\\appdata\\local\\anaconda3\\envs\\polars\\lib\\site-packages (from polars[all]) (3.9.2)\n",
      "Requirement already satisfied: altair>=5.4.0 in c:\\users\\ng0471lb\\appdata\\local\\anaconda3\\envs\\polars\\lib\\site-packages (from polars[all]) (5.4.1)\n",
      "Requirement already satisfied: great-tables>=0.8.0 in c:\\users\\ng0471lb\\appdata\\local\\anaconda3\\envs\\polars\\lib\\site-packages (from polars[all]) (0.11.0)\n",
      "Requirement already satisfied: tzdata in c:\\users\\ng0471lb\\appdata\\local\\anaconda3\\envs\\polars\\lib\\site-packages (from polars[all]) (2024.1)\n",
      "Requirement already satisfied: jinja2 in c:\\users\\ng0471lb\\appdata\\local\\anaconda3\\envs\\polars\\lib\\site-packages (from altair>=5.4.0->polars[all]) (3.1.4)\n",
      "Requirement already satisfied: jsonschema>=3.0 in c:\\users\\ng0471lb\\appdata\\local\\anaconda3\\envs\\polars\\lib\\site-packages (from altair>=5.4.0->polars[all]) (4.23.0)\n",
      "Requirement already satisfied: narwhals>=1.5.2 in c:\\users\\ng0471lb\\appdata\\local\\anaconda3\\envs\\polars\\lib\\site-packages (from altair>=5.4.0->polars[all]) (1.6.3)\n",
      "Requirement already satisfied: packaging in c:\\users\\ng0471lb\\appdata\\local\\anaconda3\\envs\\polars\\lib\\site-packages (from altair>=5.4.0->polars[all]) (24.1)\n",
      "Requirement already satisfied: typing-extensions>=4.10.0 in c:\\users\\ng0471lb\\appdata\\local\\anaconda3\\envs\\polars\\lib\\site-packages (from altair>=5.4.0->polars[all]) (4.12.2)\n",
      "Requirement already satisfied: commonmark>=0.9.1 in c:\\users\\ng0471lb\\appdata\\local\\anaconda3\\envs\\polars\\lib\\site-packages (from great-tables>=0.8.0->polars[all]) (0.9.1)\n",
      "Requirement already satisfied: htmltools>=0.4.1 in c:\\users\\ng0471lb\\appdata\\local\\anaconda3\\envs\\polars\\lib\\site-packages (from great-tables>=0.8.0->polars[all]) (0.5.3)\n",
      "Requirement already satisfied: importlib-metadata in c:\\users\\ng0471lb\\appdata\\local\\anaconda3\\envs\\polars\\lib\\site-packages (from great-tables>=0.8.0->polars[all]) (8.4.0)\n",
      "Requirement already satisfied: Babel>=2.13.1 in c:\\users\\ng0471lb\\appdata\\local\\anaconda3\\envs\\polars\\lib\\site-packages (from great-tables>=0.8.0->polars[all]) (2.14.0)\n",
      "Requirement already satisfied: importlib-resources in c:\\users\\ng0471lb\\appdata\\local\\anaconda3\\envs\\polars\\lib\\site-packages (from great-tables>=0.8.0->polars[all]) (6.4.4)\n",
      "Requirement already satisfied: click<9.0.0,>=7.1.1 in c:\\users\\ng0471lb\\appdata\\local\\anaconda3\\envs\\polars\\lib\\site-packages (from pyiceberg>=0.5.0->polars[all]) (8.1.7)\n",
      "Requirement already satisfied: mmh3<5.0.0,>=4.0.0 in c:\\users\\ng0471lb\\appdata\\local\\anaconda3\\envs\\polars\\lib\\site-packages (from pyiceberg>=0.5.0->polars[all]) (4.1.0)\n",
      "Requirement already satisfied: pyparsing<4.0.0,>=3.1.0 in c:\\users\\ng0471lb\\appdata\\local\\anaconda3\\envs\\polars\\lib\\site-packages (from pyiceberg>=0.5.0->polars[all]) (3.1.4)\n",
      "Requirement already satisfied: requests<3.0.0,>=2.20.0 in c:\\users\\ng0471lb\\appdata\\local\\anaconda3\\envs\\polars\\lib\\site-packages (from pyiceberg>=0.5.0->polars[all]) (2.32.3)\n",
      "Requirement already satisfied: rich<14.0.0,>=10.11.0 in c:\\users\\ng0471lb\\appdata\\local\\anaconda3\\envs\\polars\\lib\\site-packages (from pyiceberg>=0.5.0->polars[all]) (13.8.0)\n",
      "Requirement already satisfied: sortedcontainers==2.4.0 in c:\\users\\ng0471lb\\appdata\\local\\anaconda3\\envs\\polars\\lib\\site-packages (from pyiceberg>=0.5.0->polars[all]) (2.4.0)\n",
      "Requirement already satisfied: strictyaml<2.0.0,>=1.7.0 in c:\\users\\ng0471lb\\appdata\\local\\anaconda3\\envs\\polars\\lib\\site-packages (from pyiceberg>=0.5.0->polars[all]) (1.7.3)\n",
      "Requirement already satisfied: tenacity<9.0.0,>=8.2.3 in c:\\users\\ng0471lb\\appdata\\local\\anaconda3\\envs\\polars\\lib\\site-packages (from pyiceberg>=0.5.0->polars[all]) (8.5.0)\n",
      "Requirement already satisfied: annotated-types>=0.4.0 in c:\\users\\ng0471lb\\appdata\\local\\anaconda3\\envs\\polars\\lib\\site-packages (from pydantic->polars[all]) (0.7.0)\n",
      "Requirement already satisfied: pydantic-core==2.23.2 in c:\\users\\ng0471lb\\appdata\\local\\anaconda3\\envs\\polars\\lib\\site-packages (from pydantic->polars[all]) (2.23.2)\n",
      "Requirement already satisfied: zope.event in c:\\users\\ng0471lb\\appdata\\local\\anaconda3\\envs\\polars\\lib\\site-packages (from gevent->polars[all]) (5.0)\n",
      "Requirement already satisfied: zope.interface in c:\\users\\ng0471lb\\appdata\\local\\anaconda3\\envs\\polars\\lib\\site-packages (from gevent->polars[all]) (7.0.3)\n",
      "Requirement already satisfied: greenlet>=3.0rc3 in c:\\users\\ng0471lb\\appdata\\local\\anaconda3\\envs\\polars\\lib\\site-packages (from gevent->polars[all]) (3.0.3)\n",
      "Requirement already satisfied: cffi>=1.12.2 in c:\\users\\ng0471lb\\appdata\\local\\anaconda3\\envs\\polars\\lib\\site-packages (from gevent->polars[all]) (1.17.0)\n",
      "Requirement already satisfied: contourpy>=1.0.1 in c:\\users\\ng0471lb\\appdata\\local\\anaconda3\\envs\\polars\\lib\\site-packages (from matplotlib->polars[all]) (1.3.0)\n",
      "Requirement already satisfied: cycler>=0.10 in c:\\users\\ng0471lb\\appdata\\local\\anaconda3\\envs\\polars\\lib\\site-packages (from matplotlib->polars[all]) (0.12.1)\n",
      "Requirement already satisfied: fonttools>=4.22.0 in c:\\users\\ng0471lb\\appdata\\local\\anaconda3\\envs\\polars\\lib\\site-packages (from matplotlib->polars[all]) (4.53.1)\n",
      "Requirement already satisfied: kiwisolver>=1.3.1 in c:\\users\\ng0471lb\\appdata\\local\\anaconda3\\envs\\polars\\lib\\site-packages (from matplotlib->polars[all]) (1.4.5)\n",
      "Requirement already satisfied: pillow>=8 in c:\\users\\ng0471lb\\appdata\\local\\anaconda3\\envs\\polars\\lib\\site-packages (from matplotlib->polars[all]) (10.4.0)\n",
      "Requirement already satisfied: python-dateutil>=2.7 in c:\\users\\ng0471lb\\appdata\\local\\anaconda3\\envs\\polars\\lib\\site-packages (from matplotlib->polars[all]) (2.9.0)\n",
      "Requirement already satisfied: pytz>=2020.1 in c:\\users\\ng0471lb\\appdata\\local\\anaconda3\\envs\\polars\\lib\\site-packages (from pandas->polars[all]) (2024.1)\n",
      "Requirement already satisfied: adbc-driver-manager[dbapi] in c:\\users\\ng0471lb\\appdata\\local\\anaconda3\\envs\\polars\\lib\\site-packages (from polars[all]) (1.2.0)\n",
      "Requirement already satisfied: adbc-driver-sqlite[dbapi] in c:\\users\\ng0471lb\\appdata\\local\\anaconda3\\envs\\polars\\lib\\site-packages (from polars[all]) (1.2.0)\n",
      "Requirement already satisfied: connectorx>=0.3.2 in c:\\users\\ng0471lb\\appdata\\local\\anaconda3\\envs\\polars\\lib\\site-packages (from polars[all]) (0.3.3)\n",
      "Requirement already satisfied: sqlalchemy in c:\\users\\ng0471lb\\appdata\\local\\anaconda3\\envs\\polars\\lib\\site-packages (from polars[all]) (2.0.34)\n",
      "Requirement already satisfied: fastexcel>=0.9 in c:\\users\\ng0471lb\\appdata\\local\\anaconda3\\envs\\polars\\lib\\site-packages (from polars[all]) (0.11.6)\n",
      "Requirement already satisfied: openpyxl>=3.0.0 in c:\\users\\ng0471lb\\appdata\\local\\anaconda3\\envs\\polars\\lib\\site-packages (from polars[all]) (3.1.5)\n",
      "Requirement already satisfied: xlsx2csv>=0.8.0 in c:\\users\\ng0471lb\\appdata\\local\\anaconda3\\envs\\polars\\lib\\site-packages (from polars[all]) (0.8.3)\n",
      "Requirement already satisfied: xlsxwriter in c:\\users\\ng0471lb\\appdata\\local\\anaconda3\\envs\\polars\\lib\\site-packages (from polars[all]) (3.2.0)\n",
      "Requirement already satisfied: pycparser in c:\\users\\ng0471lb\\appdata\\local\\anaconda3\\envs\\polars\\lib\\site-packages (from cffi>=1.12.2->gevent->polars[all]) (2.22)\n",
      "Requirement already satisfied: colorama in c:\\users\\ng0471lb\\appdata\\local\\anaconda3\\envs\\polars\\lib\\site-packages (from click<9.0.0,>=7.1.1->pyiceberg>=0.5.0->polars[all]) (0.4.6)\n",
      "Requirement already satisfied: attrs>=22.2.0 in c:\\users\\ng0471lb\\appdata\\local\\anaconda3\\envs\\polars\\lib\\site-packages (from jsonschema>=3.0->altair>=5.4.0->polars[all]) (24.2.0)\n",
      "Requirement already satisfied: jsonschema-specifications>=2023.03.6 in c:\\users\\ng0471lb\\appdata\\local\\anaconda3\\envs\\polars\\lib\\site-packages (from jsonschema>=3.0->altair>=5.4.0->polars[all]) (2023.12.1)\n",
      "Requirement already satisfied: referencing>=0.28.4 in c:\\users\\ng0471lb\\appdata\\local\\anaconda3\\envs\\polars\\lib\\site-packages (from jsonschema>=3.0->altair>=5.4.0->polars[all]) (0.35.1)\n",
      "Requirement already satisfied: rpds-py>=0.7.1 in c:\\users\\ng0471lb\\appdata\\local\\anaconda3\\envs\\polars\\lib\\site-packages (from jsonschema>=3.0->altair>=5.4.0->polars[all]) (0.20.0)\n",
      "Requirement already satisfied: et-xmlfile in c:\\users\\ng0471lb\\appdata\\local\\anaconda3\\envs\\polars\\lib\\site-packages (from openpyxl>=3.0.0->polars[all]) (1.1.0)\n",
      "Requirement already satisfied: six>=1.5 in c:\\users\\ng0471lb\\appdata\\local\\anaconda3\\envs\\polars\\lib\\site-packages (from python-dateutil>=2.7->matplotlib->polars[all]) (1.16.0)\n",
      "Requirement already satisfied: charset-normalizer<4,>=2 in c:\\users\\ng0471lb\\appdata\\local\\anaconda3\\envs\\polars\\lib\\site-packages (from requests<3.0.0,>=2.20.0->pyiceberg>=0.5.0->polars[all]) (3.3.2)\n",
      "Requirement already satisfied: idna<4,>=2.5 in c:\\users\\ng0471lb\\appdata\\local\\anaconda3\\envs\\polars\\lib\\site-packages (from requests<3.0.0,>=2.20.0->pyiceberg>=0.5.0->polars[all]) (3.8)\n",
      "Requirement already satisfied: urllib3<3,>=1.21.1 in c:\\users\\ng0471lb\\appdata\\local\\anaconda3\\envs\\polars\\lib\\site-packages (from requests<3.0.0,>=2.20.0->pyiceberg>=0.5.0->polars[all]) (2.2.2)\n",
      "Requirement already satisfied: certifi>=2017.4.17 in c:\\users\\ng0471lb\\appdata\\local\\anaconda3\\envs\\polars\\lib\\site-packages (from requests<3.0.0,>=2.20.0->pyiceberg>=0.5.0->polars[all]) (2024.7.4)\n",
      "Requirement already satisfied: markdown-it-py>=2.2.0 in c:\\users\\ng0471lb\\appdata\\local\\anaconda3\\envs\\polars\\lib\\site-packages (from rich<14.0.0,>=10.11.0->pyiceberg>=0.5.0->polars[all]) (3.0.0)\n",
      "Requirement already satisfied: pygments<3.0.0,>=2.13.0 in c:\\users\\ng0471lb\\appdata\\local\\anaconda3\\envs\\polars\\lib\\site-packages (from rich<14.0.0,>=10.11.0->pyiceberg>=0.5.0->polars[all]) (2.18.0)\n",
      "Requirement already satisfied: zipp>=0.5 in c:\\users\\ng0471lb\\appdata\\local\\anaconda3\\envs\\polars\\lib\\site-packages (from importlib-metadata->great-tables>=0.8.0->polars[all]) (3.20.1)\n",
      "Requirement already satisfied: MarkupSafe>=2.0 in c:\\users\\ng0471lb\\appdata\\local\\anaconda3\\envs\\polars\\lib\\site-packages (from jinja2->altair>=5.4.0->polars[all]) (2.1.5)\n",
      "Requirement already satisfied: setuptools in c:\\users\\ng0471lb\\appdata\\local\\anaconda3\\envs\\polars\\lib\\site-packages (from zope.event->gevent->polars[all]) (72.2.0)\n",
      "Requirement already satisfied: mdurl~=0.1 in c:\\users\\ng0471lb\\appdata\\local\\anaconda3\\envs\\polars\\lib\\site-packages (from markdown-it-py>=2.2.0->rich<14.0.0,>=10.11.0->pyiceberg>=0.5.0->polars[all]) (0.1.2)\n"
     ]
    }
   ],
   "source": [
    "!pip install \"polars[all]\""
   ]
  },
  {
   "cell_type": "code",
   "execution_count": 2,
   "id": "d188a811",
   "metadata": {
    "scrolled": true
   },
   "outputs": [
    {
     "name": "stderr",
     "output_type": "stream",
     "text": [
      "'wget' is not recognized as an internal or external command,\n",
      "operable program or batch file.\n"
     ]
    }
   ],
   "source": [
    "!wget https://github.com/WSU-DataScience/dsci_325_module_7_more_data_management_in_python/raw/main/sample_data.zip"
   ]
  },
  {
   "cell_type": "code",
   "execution_count": 3,
   "id": "311d5379",
   "metadata": {},
   "outputs": [
    {
     "name": "stderr",
     "output_type": "stream",
     "text": [
      "'unzip' is not recognized as an internal or external command,\n",
      "operable program or batch file.\n"
     ]
    }
   ],
   "source": [
    "!unzip ./sample_data.zip"
   ]
  },
  {
   "cell_type": "code",
   "execution_count": 4,
   "id": "6e90c0b4",
   "metadata": {},
   "outputs": [
    {
     "name": "stdout",
     "output_type": "stream",
     "text": [
      "Requirement already satisfied: more_polars in c:\\users\\ng0471lb\\appdata\\local\\anaconda3\\envs\\polars\\lib\\site-packages (0.3.0)\n",
      "Requirement already satisfied: composable>=0.5.4 in c:\\users\\ng0471lb\\appdata\\local\\anaconda3\\envs\\polars\\lib\\site-packages (from more_polars) (0.5.4)\n",
      "Requirement already satisfied: polars>=0.14.26 in c:\\users\\ng0471lb\\appdata\\local\\anaconda3\\envs\\polars\\lib\\site-packages (from more_polars) (1.6.0)\n",
      "Requirement already satisfied: python-forge<19.0,>=18.6 in c:\\users\\ng0471lb\\appdata\\local\\anaconda3\\envs\\polars\\lib\\site-packages (from composable>=0.5.4->more_polars) (18.6.0)\n",
      "Requirement already satisfied: toolz<0.12.0,>=0.11.1 in c:\\users\\ng0471lb\\appdata\\local\\anaconda3\\envs\\polars\\lib\\site-packages (from composable>=0.5.4->more_polars) (0.11.2)\n"
     ]
    }
   ],
   "source": [
    "!pip install more_polars"
   ]
  },
  {
   "cell_type": "markdown",
   "id": "4860bf4a",
   "metadata": {
    "slideshow": {
     "slide_type": "slide"
    }
   },
   "source": [
    "# Joining Tables with `polars`"
   ]
  },
  {
   "cell_type": "code",
   "execution_count": 5,
   "id": "1736398e",
   "metadata": {
    "slideshow": {
     "slide_type": "fragment"
    }
   },
   "outputs": [],
   "source": [
    "import polars as pl\n",
    "pl.Config.with_columns_kwargs = True"
   ]
  },
  {
   "cell_type": "markdown",
   "id": "c22bbb5b",
   "metadata": {
    "slideshow": {
     "slide_type": "slide"
    }
   },
   "source": [
    "## Example\n",
    "\n",
    "The following tables were taken from the Wikipedia page for joins and will provide a small but sufficiently complicated example for introducing joins."
   ]
  },
  {
   "cell_type": "code",
   "execution_count": 6,
   "id": "ede04292",
   "metadata": {
    "slideshow": {
     "slide_type": "fragment"
    }
   },
   "outputs": [
    {
     "data": {
      "text/html": [
       "<div><style>\n",
       ".dataframe > thead > tr,\n",
       ".dataframe > tbody > tr {\n",
       "  text-align: right;\n",
       "  white-space: pre-wrap;\n",
       "}\n",
       "</style>\n",
       "<small>shape: (4, 2)</small><table border=\"1\" class=\"dataframe\"><thead><tr><th>DeptID</th><th>DeptName</th></tr><tr><td>i64</td><td>str</td></tr></thead><tbody><tr><td>31</td><td>&quot;Sales&quot;</td></tr><tr><td>33</td><td>&quot;Engineering&quot;</td></tr><tr><td>34</td><td>&quot;Clerical&quot;</td></tr><tr><td>35</td><td>&quot;Marketing&quot;</td></tr></tbody></table></div>"
      ],
      "text/plain": [
       "shape: (4, 2)\n",
       "┌────────┬─────────────┐\n",
       "│ DeptID ┆ DeptName    │\n",
       "│ ---    ┆ ---         │\n",
       "│ i64    ┆ str         │\n",
       "╞════════╪═════════════╡\n",
       "│ 31     ┆ Sales       │\n",
       "│ 33     ┆ Engineering │\n",
       "│ 34     ┆ Clerical    │\n",
       "│ 35     ┆ Marketing   │\n",
       "└────────┴─────────────┘"
      ]
     },
     "execution_count": 6,
     "metadata": {},
     "output_type": "execute_result"
    }
   ],
   "source": [
    "dept = pl.read_csv(\"./sample_data/department.csv\")\n",
    "dept"
   ]
  },
  {
   "cell_type": "code",
   "execution_count": 7,
   "id": "695cf9ec",
   "metadata": {
    "slideshow": {
     "slide_type": "slide"
    }
   },
   "outputs": [
    {
     "data": {
      "text/html": [
       "<div><style>\n",
       ".dataframe > thead > tr,\n",
       ".dataframe > tbody > tr {\n",
       "  text-align: right;\n",
       "  white-space: pre-wrap;\n",
       "}\n",
       "</style>\n",
       "<small>shape: (6, 3)</small><table border=\"1\" class=\"dataframe\"><thead><tr><th>LastName</th><th>EmployeeID</th><th>DeptID</th></tr><tr><td>str</td><td>i64</td><td>i64</td></tr></thead><tbody><tr><td>&quot;Rafferty&quot;</td><td>102</td><td>31</td></tr><tr><td>&quot;Jones&quot;</td><td>105</td><td>33</td></tr><tr><td>&quot;Heisenberg&quot;</td><td>106</td><td>33</td></tr><tr><td>&quot;Robinson&quot;</td><td>108</td><td>34</td></tr><tr><td>&quot;Smith&quot;</td><td>110</td><td>34</td></tr><tr><td>&quot;Williams&quot;</td><td>111</td><td>null</td></tr></tbody></table></div>"
      ],
      "text/plain": [
       "shape: (6, 3)\n",
       "┌────────────┬────────────┬────────┐\n",
       "│ LastName   ┆ EmployeeID ┆ DeptID │\n",
       "│ ---        ┆ ---        ┆ ---    │\n",
       "│ str        ┆ i64        ┆ i64    │\n",
       "╞════════════╪════════════╪════════╡\n",
       "│ Rafferty   ┆ 102        ┆ 31     │\n",
       "│ Jones      ┆ 105        ┆ 33     │\n",
       "│ Heisenberg ┆ 106        ┆ 33     │\n",
       "│ Robinson   ┆ 108        ┆ 34     │\n",
       "│ Smith      ┆ 110        ┆ 34     │\n",
       "│ Williams   ┆ 111        ┆ null   │\n",
       "└────────────┴────────────┴────────┘"
      ]
     },
     "execution_count": 7,
     "metadata": {},
     "output_type": "execute_result"
    }
   ],
   "source": [
    "empl = pl.read_csv(\"./sample_data/employee.csv\")\n",
    "empl"
   ]
  },
  {
   "cell_type": "code",
   "execution_count": 8,
   "id": "ce093637",
   "metadata": {
    "slideshow": {
     "slide_type": "slide"
    }
   },
   "outputs": [
    {
     "data": {
      "text/html": [
       "<div><style>\n",
       ".dataframe > thead > tr,\n",
       ".dataframe > tbody > tr {\n",
       "  text-align: right;\n",
       "  white-space: pre-wrap;\n",
       "}\n",
       "</style>\n",
       "<small>shape: (18, 3)</small><table border=\"1\" class=\"dataframe\"><thead><tr><th>EmployeeID</th><th>Year</th><th>Salary</th></tr><tr><td>i64</td><td>i64</td><td>i64</td></tr></thead><tbody><tr><td>102</td><td>2020</td><td>52000</td></tr><tr><td>102</td><td>2021</td><td>53000</td></tr><tr><td>102</td><td>2022</td><td>54000</td></tr><tr><td>105</td><td>2020</td><td>73000</td></tr><tr><td>105</td><td>2021</td><td>74000</td></tr><tr><td>&hellip;</td><td>&hellip;</td><td>&hellip;</td></tr><tr><td>110</td><td>2021</td><td>59000</td></tr><tr><td>110</td><td>2022</td><td>61000</td></tr><tr><td>111</td><td>2020</td><td>72000</td></tr><tr><td>111</td><td>2021</td><td>73000</td></tr><tr><td>111</td><td>2022</td><td>74000</td></tr></tbody></table></div>"
      ],
      "text/plain": [
       "shape: (18, 3)\n",
       "┌────────────┬──────┬────────┐\n",
       "│ EmployeeID ┆ Year ┆ Salary │\n",
       "│ ---        ┆ ---  ┆ ---    │\n",
       "│ i64        ┆ i64  ┆ i64    │\n",
       "╞════════════╪══════╪════════╡\n",
       "│ 102        ┆ 2020 ┆ 52000  │\n",
       "│ 102        ┆ 2021 ┆ 53000  │\n",
       "│ 102        ┆ 2022 ┆ 54000  │\n",
       "│ 105        ┆ 2020 ┆ 73000  │\n",
       "│ 105        ┆ 2021 ┆ 74000  │\n",
       "│ …          ┆ …    ┆ …      │\n",
       "│ 110        ┆ 2021 ┆ 59000  │\n",
       "│ 110        ┆ 2022 ┆ 61000  │\n",
       "│ 111        ┆ 2020 ┆ 72000  │\n",
       "│ 111        ┆ 2021 ┆ 73000  │\n",
       "│ 111        ┆ 2022 ┆ 74000  │\n",
       "└────────────┴──────┴────────┘"
      ]
     },
     "execution_count": 8,
     "metadata": {},
     "output_type": "execute_result"
    }
   ],
   "source": [
    "salary = pl.read_csv(\"./sample_data/salary.csv\")\n",
    "salary"
   ]
  },
  {
   "cell_type": "markdown",
   "id": "a0c27ff8",
   "metadata": {
    "slideshow": {
     "slide_type": "slide"
    }
   },
   "source": [
    "## LEFT JOIN"
   ]
  },
  {
   "cell_type": "code",
   "execution_count": 9,
   "id": "eb99c54b",
   "metadata": {
    "scrolled": true,
    "slideshow": {
     "slide_type": "fragment"
    }
   },
   "outputs": [
    {
     "data": {
      "text/html": [
       "<div><style>\n",
       ".dataframe > thead > tr,\n",
       ".dataframe > tbody > tr {\n",
       "  text-align: right;\n",
       "  white-space: pre-wrap;\n",
       "}\n",
       "</style>\n",
       "<small>shape: (6, 4)</small><table border=\"1\" class=\"dataframe\"><thead><tr><th>LastName</th><th>EmployeeID</th><th>DeptID</th><th>DeptName</th></tr><tr><td>str</td><td>i64</td><td>i64</td><td>str</td></tr></thead><tbody><tr><td>&quot;Rafferty&quot;</td><td>102</td><td>31</td><td>&quot;Sales&quot;</td></tr><tr><td>&quot;Jones&quot;</td><td>105</td><td>33</td><td>&quot;Engineering&quot;</td></tr><tr><td>&quot;Heisenberg&quot;</td><td>106</td><td>33</td><td>&quot;Engineering&quot;</td></tr><tr><td>&quot;Robinson&quot;</td><td>108</td><td>34</td><td>&quot;Clerical&quot;</td></tr><tr><td>&quot;Smith&quot;</td><td>110</td><td>34</td><td>&quot;Clerical&quot;</td></tr><tr><td>&quot;Williams&quot;</td><td>111</td><td>null</td><td>null</td></tr></tbody></table></div>"
      ],
      "text/plain": [
       "shape: (6, 4)\n",
       "┌────────────┬────────────┬────────┬─────────────┐\n",
       "│ LastName   ┆ EmployeeID ┆ DeptID ┆ DeptName    │\n",
       "│ ---        ┆ ---        ┆ ---    ┆ ---         │\n",
       "│ str        ┆ i64        ┆ i64    ┆ str         │\n",
       "╞════════════╪════════════╪════════╪═════════════╡\n",
       "│ Rafferty   ┆ 102        ┆ 31     ┆ Sales       │\n",
       "│ Jones      ┆ 105        ┆ 33     ┆ Engineering │\n",
       "│ Heisenberg ┆ 106        ┆ 33     ┆ Engineering │\n",
       "│ Robinson   ┆ 108        ┆ 34     ┆ Clerical    │\n",
       "│ Smith      ┆ 110        ┆ 34     ┆ Clerical    │\n",
       "│ Williams   ┆ 111        ┆ null   ┆ null        │\n",
       "└────────────┴────────────┴────────┴─────────────┘"
      ]
     },
     "execution_count": 9,
     "metadata": {},
     "output_type": "execute_result"
    }
   ],
   "source": [
    "empl.join(dept, on='DeptID', how='left')"
   ]
  },
  {
   "cell_type": "markdown",
   "id": "3e646506",
   "metadata": {
    "slideshow": {
     "slide_type": "slide"
    }
   },
   "source": [
    "## When the index names differ"
   ]
  },
  {
   "cell_type": "code",
   "execution_count": 10,
   "id": "90d5d469",
   "metadata": {
    "slideshow": {
     "slide_type": "fragment"
    }
   },
   "outputs": [
    {
     "data": {
      "text/html": [
       "<div><style>\n",
       ".dataframe > thead > tr,\n",
       ".dataframe > tbody > tr {\n",
       "  text-align: right;\n",
       "  white-space: pre-wrap;\n",
       "}\n",
       "</style>\n",
       "<small>shape: (6, 3)</small><table border=\"1\" class=\"dataframe\"><thead><tr><th>LastName</th><th>EmployeeID</th><th>dept_id</th></tr><tr><td>str</td><td>i64</td><td>i64</td></tr></thead><tbody><tr><td>&quot;Rafferty&quot;</td><td>102</td><td>31</td></tr><tr><td>&quot;Jones&quot;</td><td>105</td><td>33</td></tr><tr><td>&quot;Heisenberg&quot;</td><td>106</td><td>33</td></tr><tr><td>&quot;Robinson&quot;</td><td>108</td><td>34</td></tr><tr><td>&quot;Smith&quot;</td><td>110</td><td>34</td></tr><tr><td>&quot;Williams&quot;</td><td>111</td><td>null</td></tr></tbody></table></div>"
      ],
      "text/plain": [
       "shape: (6, 3)\n",
       "┌────────────┬────────────┬─────────┐\n",
       "│ LastName   ┆ EmployeeID ┆ dept_id │\n",
       "│ ---        ┆ ---        ┆ ---     │\n",
       "│ str        ┆ i64        ┆ i64     │\n",
       "╞════════════╪════════════╪═════════╡\n",
       "│ Rafferty   ┆ 102        ┆ 31      │\n",
       "│ Jones      ┆ 105        ┆ 33      │\n",
       "│ Heisenberg ┆ 106        ┆ 33      │\n",
       "│ Robinson   ┆ 108        ┆ 34      │\n",
       "│ Smith      ┆ 110        ┆ 34      │\n",
       "│ Williams   ┆ 111        ┆ null    │\n",
       "└────────────┴────────────┴─────────┘"
      ]
     },
     "execution_count": 10,
     "metadata": {},
     "output_type": "execute_result"
    }
   ],
   "source": [
    "empl2 = empl.rename({'DeptID':'dept_id'})\n",
    "empl2"
   ]
  },
  {
   "cell_type": "code",
   "execution_count": 11,
   "id": "b236f9e7",
   "metadata": {
    "scrolled": true,
    "slideshow": {
     "slide_type": "fragment"
    }
   },
   "outputs": [
    {
     "data": {
      "text/html": [
       "<div><style>\n",
       ".dataframe > thead > tr,\n",
       ".dataframe > tbody > tr {\n",
       "  text-align: right;\n",
       "  white-space: pre-wrap;\n",
       "}\n",
       "</style>\n",
       "<small>shape: (6, 4)</small><table border=\"1\" class=\"dataframe\"><thead><tr><th>LastName</th><th>EmployeeID</th><th>dept_id</th><th>DeptName</th></tr><tr><td>str</td><td>i64</td><td>i64</td><td>str</td></tr></thead><tbody><tr><td>&quot;Rafferty&quot;</td><td>102</td><td>31</td><td>&quot;Sales&quot;</td></tr><tr><td>&quot;Jones&quot;</td><td>105</td><td>33</td><td>&quot;Engineering&quot;</td></tr><tr><td>&quot;Heisenberg&quot;</td><td>106</td><td>33</td><td>&quot;Engineering&quot;</td></tr><tr><td>&quot;Robinson&quot;</td><td>108</td><td>34</td><td>&quot;Clerical&quot;</td></tr><tr><td>&quot;Smith&quot;</td><td>110</td><td>34</td><td>&quot;Clerical&quot;</td></tr><tr><td>&quot;Williams&quot;</td><td>111</td><td>null</td><td>null</td></tr></tbody></table></div>"
      ],
      "text/plain": [
       "shape: (6, 4)\n",
       "┌────────────┬────────────┬─────────┬─────────────┐\n",
       "│ LastName   ┆ EmployeeID ┆ dept_id ┆ DeptName    │\n",
       "│ ---        ┆ ---        ┆ ---     ┆ ---         │\n",
       "│ str        ┆ i64        ┆ i64     ┆ str         │\n",
       "╞════════════╪════════════╪═════════╪═════════════╡\n",
       "│ Rafferty   ┆ 102        ┆ 31      ┆ Sales       │\n",
       "│ Jones      ┆ 105        ┆ 33      ┆ Engineering │\n",
       "│ Heisenberg ┆ 106        ┆ 33      ┆ Engineering │\n",
       "│ Robinson   ┆ 108        ┆ 34      ┆ Clerical    │\n",
       "│ Smith      ┆ 110        ┆ 34      ┆ Clerical    │\n",
       "│ Williams   ┆ 111        ┆ null    ┆ null        │\n",
       "└────────────┴────────────┴─────────┴─────────────┘"
      ]
     },
     "execution_count": 11,
     "metadata": {},
     "output_type": "execute_result"
    }
   ],
   "source": [
    "empl2.join(dept, left_on='dept_id', right_on='DeptID', how='left')"
   ]
  },
  {
   "cell_type": "markdown",
   "id": "b97b4331",
   "metadata": {
    "slideshow": {
     "slide_type": "slide"
    }
   },
   "source": [
    "## RIGHT JOIN"
   ]
  },
  {
   "cell_type": "code",
   "execution_count": 12,
   "id": "d7a844cb-c6e0-4672-97db-0ad097f5c586",
   "metadata": {},
   "outputs": [
    {
     "data": {
      "text/html": [
       "<div><style>\n",
       ".dataframe > thead > tr,\n",
       ".dataframe > tbody > tr {\n",
       "  text-align: right;\n",
       "  white-space: pre-wrap;\n",
       "}\n",
       "</style>\n",
       "<small>shape: (6, 4)</small><table border=\"1\" class=\"dataframe\"><thead><tr><th>LastName</th><th>EmployeeID</th><th>DeptID</th><th>DeptName</th></tr><tr><td>str</td><td>i64</td><td>i64</td><td>str</td></tr></thead><tbody><tr><td>&quot;Rafferty&quot;</td><td>102</td><td>31</td><td>&quot;Sales&quot;</td></tr><tr><td>&quot;Jones&quot;</td><td>105</td><td>33</td><td>&quot;Engineering&quot;</td></tr><tr><td>&quot;Heisenberg&quot;</td><td>106</td><td>33</td><td>&quot;Engineering&quot;</td></tr><tr><td>&quot;Robinson&quot;</td><td>108</td><td>34</td><td>&quot;Clerical&quot;</td></tr><tr><td>&quot;Smith&quot;</td><td>110</td><td>34</td><td>&quot;Clerical&quot;</td></tr><tr><td>null</td><td>null</td><td>35</td><td>&quot;Marketing&quot;</td></tr></tbody></table></div>"
      ],
      "text/plain": [
       "shape: (6, 4)\n",
       "┌────────────┬────────────┬────────┬─────────────┐\n",
       "│ LastName   ┆ EmployeeID ┆ DeptID ┆ DeptName    │\n",
       "│ ---        ┆ ---        ┆ ---    ┆ ---         │\n",
       "│ str        ┆ i64        ┆ i64    ┆ str         │\n",
       "╞════════════╪════════════╪════════╪═════════════╡\n",
       "│ Rafferty   ┆ 102        ┆ 31     ┆ Sales       │\n",
       "│ Jones      ┆ 105        ┆ 33     ┆ Engineering │\n",
       "│ Heisenberg ┆ 106        ┆ 33     ┆ Engineering │\n",
       "│ Robinson   ┆ 108        ┆ 34     ┆ Clerical    │\n",
       "│ Smith      ┆ 110        ┆ 34     ┆ Clerical    │\n",
       "│ null       ┆ null       ┆ 35     ┆ Marketing   │\n",
       "└────────────┴────────────┴────────┴─────────────┘"
      ]
     },
     "execution_count": 12,
     "metadata": {},
     "output_type": "execute_result"
    }
   ],
   "source": [
    "empl2.join(dept, left_on='dept_id', right_on='DeptID', how='right')"
   ]
  },
  {
   "cell_type": "markdown",
   "id": "a4b95613",
   "metadata": {
    "slideshow": {
     "slide_type": "slide"
    }
   },
   "source": [
    "## Full Outer Join"
   ]
  },
  {
   "cell_type": "code",
   "execution_count": 13,
   "id": "eb1b0c41",
   "metadata": {
    "scrolled": true,
    "slideshow": {
     "slide_type": "fragment"
    }
   },
   "outputs": [
    {
     "data": {
      "text/html": [
       "<div><style>\n",
       ".dataframe > thead > tr,\n",
       ".dataframe > tbody > tr {\n",
       "  text-align: right;\n",
       "  white-space: pre-wrap;\n",
       "}\n",
       "</style>\n",
       "<small>shape: (7, 5)</small><table border=\"1\" class=\"dataframe\"><thead><tr><th>LastName</th><th>EmployeeID</th><th>DeptID</th><th>DeptID_right</th><th>DeptName</th></tr><tr><td>str</td><td>i64</td><td>i64</td><td>i64</td><td>str</td></tr></thead><tbody><tr><td>&quot;Rafferty&quot;</td><td>102</td><td>31</td><td>31</td><td>&quot;Sales&quot;</td></tr><tr><td>&quot;Jones&quot;</td><td>105</td><td>33</td><td>33</td><td>&quot;Engineering&quot;</td></tr><tr><td>&quot;Heisenberg&quot;</td><td>106</td><td>33</td><td>33</td><td>&quot;Engineering&quot;</td></tr><tr><td>&quot;Robinson&quot;</td><td>108</td><td>34</td><td>34</td><td>&quot;Clerical&quot;</td></tr><tr><td>&quot;Smith&quot;</td><td>110</td><td>34</td><td>34</td><td>&quot;Clerical&quot;</td></tr><tr><td>&quot;Williams&quot;</td><td>111</td><td>null</td><td>null</td><td>null</td></tr><tr><td>null</td><td>null</td><td>null</td><td>35</td><td>&quot;Marketing&quot;</td></tr></tbody></table></div>"
      ],
      "text/plain": [
       "shape: (7, 5)\n",
       "┌────────────┬────────────┬────────┬──────────────┬─────────────┐\n",
       "│ LastName   ┆ EmployeeID ┆ DeptID ┆ DeptID_right ┆ DeptName    │\n",
       "│ ---        ┆ ---        ┆ ---    ┆ ---          ┆ ---         │\n",
       "│ str        ┆ i64        ┆ i64    ┆ i64          ┆ str         │\n",
       "╞════════════╪════════════╪════════╪══════════════╪═════════════╡\n",
       "│ Rafferty   ┆ 102        ┆ 31     ┆ 31           ┆ Sales       │\n",
       "│ Jones      ┆ 105        ┆ 33     ┆ 33           ┆ Engineering │\n",
       "│ Heisenberg ┆ 106        ┆ 33     ┆ 33           ┆ Engineering │\n",
       "│ Robinson   ┆ 108        ┆ 34     ┆ 34           ┆ Clerical    │\n",
       "│ Smith      ┆ 110        ┆ 34     ┆ 34           ┆ Clerical    │\n",
       "│ Williams   ┆ 111        ┆ null   ┆ null         ┆ null        │\n",
       "│ null       ┆ null       ┆ null   ┆ 35           ┆ Marketing   │\n",
       "└────────────┴────────────┴────────┴──────────────┴─────────────┘"
      ]
     },
     "execution_count": 13,
     "metadata": {},
     "output_type": "execute_result"
    }
   ],
   "source": [
    "empl.join(dept, on='DeptID', how='full')"
   ]
  },
  {
   "cell_type": "markdown",
   "id": "5476d4d1",
   "metadata": {
    "slideshow": {
     "slide_type": "slide"
    }
   },
   "source": [
    "## Inner Join"
   ]
  },
  {
   "cell_type": "code",
   "execution_count": 14,
   "id": "f1ad6378",
   "metadata": {
    "scrolled": true,
    "slideshow": {
     "slide_type": "fragment"
    }
   },
   "outputs": [
    {
     "data": {
      "text/html": [
       "<div><style>\n",
       ".dataframe > thead > tr,\n",
       ".dataframe > tbody > tr {\n",
       "  text-align: right;\n",
       "  white-space: pre-wrap;\n",
       "}\n",
       "</style>\n",
       "<small>shape: (5, 4)</small><table border=\"1\" class=\"dataframe\"><thead><tr><th>LastName</th><th>EmployeeID</th><th>DeptID</th><th>DeptName</th></tr><tr><td>str</td><td>i64</td><td>i64</td><td>str</td></tr></thead><tbody><tr><td>&quot;Rafferty&quot;</td><td>102</td><td>31</td><td>&quot;Sales&quot;</td></tr><tr><td>&quot;Jones&quot;</td><td>105</td><td>33</td><td>&quot;Engineering&quot;</td></tr><tr><td>&quot;Heisenberg&quot;</td><td>106</td><td>33</td><td>&quot;Engineering&quot;</td></tr><tr><td>&quot;Robinson&quot;</td><td>108</td><td>34</td><td>&quot;Clerical&quot;</td></tr><tr><td>&quot;Smith&quot;</td><td>110</td><td>34</td><td>&quot;Clerical&quot;</td></tr></tbody></table></div>"
      ],
      "text/plain": [
       "shape: (5, 4)\n",
       "┌────────────┬────────────┬────────┬─────────────┐\n",
       "│ LastName   ┆ EmployeeID ┆ DeptID ┆ DeptName    │\n",
       "│ ---        ┆ ---        ┆ ---    ┆ ---         │\n",
       "│ str        ┆ i64        ┆ i64    ┆ str         │\n",
       "╞════════════╪════════════╪════════╪═════════════╡\n",
       "│ Rafferty   ┆ 102        ┆ 31     ┆ Sales       │\n",
       "│ Jones      ┆ 105        ┆ 33     ┆ Engineering │\n",
       "│ Heisenberg ┆ 106        ┆ 33     ┆ Engineering │\n",
       "│ Robinson   ┆ 108        ┆ 34     ┆ Clerical    │\n",
       "│ Smith      ┆ 110        ┆ 34     ┆ Clerical    │\n",
       "└────────────┴────────────┴────────┴─────────────┘"
      ]
     },
     "execution_count": 14,
     "metadata": {},
     "output_type": "execute_result"
    }
   ],
   "source": [
    "empl.join(dept, on='DeptID', how='inner')"
   ]
  },
  {
   "cell_type": "markdown",
   "id": "c81ac10d-c8de-4540-87ae-aa056243b2b5",
   "metadata": {},
   "source": [
    "## <font color=\"red\"> Exercise 7.3.1 </font>\n",
    "\n",
    "**Tasks**\n",
    "\n",
    "1. Use help on `empl.join` and identify any additional join types offered by `polars`, and\n",
    "2. Write a sentence or two providing an example that might require each join type."
   ]
  },
  {
   "cell_type": "code",
   "execution_count": 45,
   "id": "768aa4c0-2c83-4874-8a00-b1662460ecc3",
   "metadata": {},
   "outputs": [
    {
     "data": {
      "text/plain": [
       "\u001b[1;31mSignature:\u001b[0m\n",
       "\u001b[0mempl\u001b[0m\u001b[1;33m.\u001b[0m\u001b[0mjoin\u001b[0m\u001b[1;33m(\u001b[0m\u001b[1;33m\n",
       "\u001b[0m    \u001b[0mother\u001b[0m\u001b[1;33m:\u001b[0m \u001b[1;34m'DataFrame'\u001b[0m\u001b[1;33m,\u001b[0m\u001b[1;33m\n",
       "\u001b[0m    \u001b[0mon\u001b[0m\u001b[1;33m:\u001b[0m \u001b[1;34m'str | Expr | Sequence[str | Expr] | None'\u001b[0m \u001b[1;33m=\u001b[0m \u001b[1;32mNone\u001b[0m\u001b[1;33m,\u001b[0m\u001b[1;33m\n",
       "\u001b[0m    \u001b[0mhow\u001b[0m\u001b[1;33m:\u001b[0m \u001b[1;34m'JoinStrategy'\u001b[0m \u001b[1;33m=\u001b[0m \u001b[1;34m'inner'\u001b[0m\u001b[1;33m,\u001b[0m\u001b[1;33m\n",
       "\u001b[0m    \u001b[1;33m*\u001b[0m\u001b[1;33m,\u001b[0m\u001b[1;33m\n",
       "\u001b[0m    \u001b[0mleft_on\u001b[0m\u001b[1;33m:\u001b[0m \u001b[1;34m'str | Expr | Sequence[str | Expr] | None'\u001b[0m \u001b[1;33m=\u001b[0m \u001b[1;32mNone\u001b[0m\u001b[1;33m,\u001b[0m\u001b[1;33m\n",
       "\u001b[0m    \u001b[0mright_on\u001b[0m\u001b[1;33m:\u001b[0m \u001b[1;34m'str | Expr | Sequence[str | Expr] | None'\u001b[0m \u001b[1;33m=\u001b[0m \u001b[1;32mNone\u001b[0m\u001b[1;33m,\u001b[0m\u001b[1;33m\n",
       "\u001b[0m    \u001b[0msuffix\u001b[0m\u001b[1;33m:\u001b[0m \u001b[1;34m'str'\u001b[0m \u001b[1;33m=\u001b[0m \u001b[1;34m'_right'\u001b[0m\u001b[1;33m,\u001b[0m\u001b[1;33m\n",
       "\u001b[0m    \u001b[0mvalidate\u001b[0m\u001b[1;33m:\u001b[0m \u001b[1;34m'JoinValidation'\u001b[0m \u001b[1;33m=\u001b[0m \u001b[1;34m'm:m'\u001b[0m\u001b[1;33m,\u001b[0m\u001b[1;33m\n",
       "\u001b[0m    \u001b[0mjoin_nulls\u001b[0m\u001b[1;33m:\u001b[0m \u001b[1;34m'bool'\u001b[0m \u001b[1;33m=\u001b[0m \u001b[1;32mFalse\u001b[0m\u001b[1;33m,\u001b[0m\u001b[1;33m\n",
       "\u001b[0m    \u001b[0mcoalesce\u001b[0m\u001b[1;33m:\u001b[0m \u001b[1;34m'bool | None'\u001b[0m \u001b[1;33m=\u001b[0m \u001b[1;32mNone\u001b[0m\u001b[1;33m,\u001b[0m\u001b[1;33m\n",
       "\u001b[0m\u001b[1;33m)\u001b[0m \u001b[1;33m->\u001b[0m \u001b[1;34m'DataFrame'\u001b[0m\u001b[1;33m\u001b[0m\u001b[1;33m\u001b[0m\u001b[0m\n",
       "\u001b[1;31mDocstring:\u001b[0m\n",
       "Join in SQL-like fashion.\n",
       "\n",
       "Parameters\n",
       "----------\n",
       "other\n",
       "    DataFrame to join with.\n",
       "on\n",
       "    Name(s) of the join columns in both DataFrames.\n",
       "how : {'inner', 'left', 'right', 'full', 'semi', 'anti', 'cross'}\n",
       "    Join strategy.\n",
       "\n",
       "    * *inner*\n",
       "        Returns rows that have matching values in both tables\n",
       "    * *left*\n",
       "        Returns all rows from the left table, and the matched rows from the\n",
       "        right table\n",
       "    * *right*\n",
       "        Returns all rows from the right table, and the matched rows from the\n",
       "        left table\n",
       "    * *full*\n",
       "        Returns all rows when there is a match in either left or right table\n",
       "    * *cross*\n",
       "        Returns the Cartesian product of rows from both tables\n",
       "    * *semi*\n",
       "        Returns rows from the left table that have a match in the right table.\n",
       "    * *anti*\n",
       "        Returns rows from the left table that have no match in the right table.\n",
       "\n",
       "    .. note::\n",
       "        A left join preserves the row order of the left DataFrame.\n",
       "left_on\n",
       "    Name(s) of the left join column(s).\n",
       "right_on\n",
       "    Name(s) of the right join column(s).\n",
       "suffix\n",
       "    Suffix to append to columns with a duplicate name.\n",
       "validate: {'m:m', 'm:1', '1:m', '1:1'}\n",
       "    Checks if join is of specified type.\n",
       "\n",
       "        * *many_to_many*\n",
       "            “m:m”: default, does not result in checks\n",
       "        * *one_to_one*\n",
       "            “1:1”: check if join keys are unique in both left and right datasets\n",
       "        * *one_to_many*\n",
       "            “1:m”: check if join keys are unique in left dataset\n",
       "        * *many_to_one*\n",
       "            “m:1”: check if join keys are unique in right dataset\n",
       "\n",
       "    .. note::\n",
       "        This is currently not supported by the streaming engine.\n",
       "\n",
       "join_nulls\n",
       "    Join on null values. By default null values will never produce matches.\n",
       "coalesce\n",
       "    Coalescing behavior (merging of join columns).\n",
       "\n",
       "    - None: -> join specific.\n",
       "    - True: -> Always coalesce join columns.\n",
       "    - False: -> Never coalesce join columns.\n",
       "\n",
       "    Note that joining on any other expressions than `col`\n",
       "    will turn off coalescing.\n",
       "\n",
       "See Also\n",
       "--------\n",
       "join_asof\n",
       "\n",
       "Examples\n",
       "--------\n",
       ">>> df = pl.DataFrame(\n",
       "...     {\n",
       "...         \"foo\": [1, 2, 3],\n",
       "...         \"bar\": [6.0, 7.0, 8.0],\n",
       "...         \"ham\": [\"a\", \"b\", \"c\"],\n",
       "...     }\n",
       "... )\n",
       ">>> other_df = pl.DataFrame(\n",
       "...     {\n",
       "...         \"apple\": [\"x\", \"y\", \"z\"],\n",
       "...         \"ham\": [\"a\", \"b\", \"d\"],\n",
       "...     }\n",
       "... )\n",
       ">>> df.join(other_df, on=\"ham\")\n",
       "shape: (2, 4)\n",
       "┌─────┬─────┬─────┬───────┐\n",
       "│ foo ┆ bar ┆ ham ┆ apple │\n",
       "│ --- ┆ --- ┆ --- ┆ ---   │\n",
       "│ i64 ┆ f64 ┆ str ┆ str   │\n",
       "╞═════╪═════╪═════╪═══════╡\n",
       "│ 1   ┆ 6.0 ┆ a   ┆ x     │\n",
       "│ 2   ┆ 7.0 ┆ b   ┆ y     │\n",
       "└─────┴─────┴─────┴───────┘\n",
       "\n",
       ">>> df.join(other_df, on=\"ham\", how=\"full\")\n",
       "shape: (4, 5)\n",
       "┌──────┬──────┬──────┬───────┬───────────┐\n",
       "│ foo  ┆ bar  ┆ ham  ┆ apple ┆ ham_right │\n",
       "│ ---  ┆ ---  ┆ ---  ┆ ---   ┆ ---       │\n",
       "│ i64  ┆ f64  ┆ str  ┆ str   ┆ str       │\n",
       "╞══════╪══════╪══════╪═══════╪═══════════╡\n",
       "│ 1    ┆ 6.0  ┆ a    ┆ x     ┆ a         │\n",
       "│ 2    ┆ 7.0  ┆ b    ┆ y     ┆ b         │\n",
       "│ null ┆ null ┆ null ┆ z     ┆ d         │\n",
       "│ 3    ┆ 8.0  ┆ c    ┆ null  ┆ null      │\n",
       "└──────┴──────┴──────┴───────┴───────────┘\n",
       "\n",
       ">>> df.join(other_df, on=\"ham\", how=\"left\", coalesce=True)\n",
       "shape: (3, 4)\n",
       "┌─────┬─────┬─────┬───────┐\n",
       "│ foo ┆ bar ┆ ham ┆ apple │\n",
       "│ --- ┆ --- ┆ --- ┆ ---   │\n",
       "│ i64 ┆ f64 ┆ str ┆ str   │\n",
       "╞═════╪═════╪═════╪═══════╡\n",
       "│ 1   ┆ 6.0 ┆ a   ┆ x     │\n",
       "│ 2   ┆ 7.0 ┆ b   ┆ y     │\n",
       "│ 3   ┆ 8.0 ┆ c   ┆ null  │\n",
       "└─────┴─────┴─────┴───────┘\n",
       "\n",
       ">>> df.join(other_df, on=\"ham\", how=\"semi\")\n",
       "shape: (2, 3)\n",
       "┌─────┬─────┬─────┐\n",
       "│ foo ┆ bar ┆ ham │\n",
       "│ --- ┆ --- ┆ --- │\n",
       "│ i64 ┆ f64 ┆ str │\n",
       "╞═════╪═════╪═════╡\n",
       "│ 1   ┆ 6.0 ┆ a   │\n",
       "│ 2   ┆ 7.0 ┆ b   │\n",
       "└─────┴─────┴─────┘\n",
       "\n",
       ">>> df.join(other_df, on=\"ham\", how=\"anti\")\n",
       "shape: (1, 3)\n",
       "┌─────┬─────┬─────┐\n",
       "│ foo ┆ bar ┆ ham │\n",
       "│ --- ┆ --- ┆ --- │\n",
       "│ i64 ┆ f64 ┆ str │\n",
       "╞═════╪═════╪═════╡\n",
       "│ 3   ┆ 8.0 ┆ c   │\n",
       "└─────┴─────┴─────┘\n",
       "\n",
       "Notes\n",
       "-----\n",
       "For joining on columns with categorical data, see :class:`polars.StringCache`.\n",
       "\u001b[1;31mFile:\u001b[0m      c:\\users\\ng0471lb\\appdata\\local\\anaconda3\\envs\\polars\\lib\\site-packages\\polars\\dataframe\\frame.py\n",
       "\u001b[1;31mType:\u001b[0m      method"
      ]
     },
     "metadata": {},
     "output_type": "display_data"
    }
   ],
   "source": [
    "?empl.join"
   ]
  },
  {
   "cell_type": "markdown",
   "id": "8451ad6e-5103-4791-bdb1-4d2b046ac1a7",
   "metadata": {},
   "source": [
    "<font color=\"orange\">\n",
    "Your answers here\n",
    "\n",
    "1. Semi - would be used to return rows from the left table that have a match in the right table; This would be useful if you only wanted to join matching values in a table\n",
    "2. Anti - Returns rows from the left table that have no match in the right table; This would be useful to know what variables do not have any matches in the other table.\n",
    "</font>"
   ]
  },
  {
   "cell_type": "markdown",
   "id": "66d6f787",
   "metadata": {},
   "source": [
    "## Chaining multiple joins\n",
    "\n",
    "To join more than two tables, simply dot-chain each join onto the first table.\n",
    "\n",
    "```{python}\n",
    "(table1\n",
    " .join(table2, ...)\n",
    " .join(table3, ...)\n",
    ")\n",
    "```"
   ]
  },
  {
   "cell_type": "markdown",
   "id": "f6a0170c",
   "metadata": {},
   "source": [
    "### Example - Average salary by department\n",
    "\n",
    "Suppose we want to compute the average salary for each department, sorted from largest to smallest.  Before performing the query, make sure you understand the relationships between tables.\n",
    "\n",
    "<img src=\"https://github.com/WSU-DataScience/dsci_325_module_7_more_data_management_in_python/raw/main/img/table_relationship.png\" width=\"800\">\n"
   ]
  },
  {
   "cell_type": "markdown",
   "id": "dc1cbefe",
   "metadata": {
    "slideshow": {
     "slide_type": "slide"
    }
   },
   "source": [
    "#### Edit 1 - Joining the salary and employee tables\n",
    "\n",
    "**Notes.**\n",
    "\n",
    "1. We can't perform the aggregation until *after* joining the departments and salaries.\n",
    "2. Since we are primarily interested in aggregating salaries, we need to use a *left* join with the salary table on the left.\n",
    "3. To illustrate the coding process, we will show each successive edit in a separate cell.  In practice, all the code would be developed in one cell, but rerun to check the results at each step."
   ]
  },
  {
   "cell_type": "code",
   "execution_count": 16,
   "id": "5d96a57b",
   "metadata": {
    "slideshow": {
     "slide_type": "fragment"
    }
   },
   "outputs": [
    {
     "data": {
      "text/html": [
       "<div><style>\n",
       ".dataframe > thead > tr,\n",
       ".dataframe > tbody > tr {\n",
       "  text-align: right;\n",
       "  white-space: pre-wrap;\n",
       "}\n",
       "</style>\n",
       "<small>shape: (5, 5)</small><table border=\"1\" class=\"dataframe\"><thead><tr><th>EmployeeID</th><th>Year</th><th>Salary</th><th>LastName</th><th>DeptID</th></tr><tr><td>i64</td><td>i64</td><td>i64</td><td>str</td><td>i64</td></tr></thead><tbody><tr><td>102</td><td>2020</td><td>52000</td><td>&quot;Rafferty&quot;</td><td>31</td></tr><tr><td>102</td><td>2021</td><td>53000</td><td>&quot;Rafferty&quot;</td><td>31</td></tr><tr><td>102</td><td>2022</td><td>54000</td><td>&quot;Rafferty&quot;</td><td>31</td></tr><tr><td>105</td><td>2020</td><td>73000</td><td>&quot;Jones&quot;</td><td>33</td></tr><tr><td>105</td><td>2021</td><td>74000</td><td>&quot;Jones&quot;</td><td>33</td></tr></tbody></table></div>"
      ],
      "text/plain": [
       "shape: (5, 5)\n",
       "┌────────────┬──────┬────────┬──────────┬────────┐\n",
       "│ EmployeeID ┆ Year ┆ Salary ┆ LastName ┆ DeptID │\n",
       "│ ---        ┆ ---  ┆ ---    ┆ ---      ┆ ---    │\n",
       "│ i64        ┆ i64  ┆ i64    ┆ str      ┆ i64    │\n",
       "╞════════════╪══════╪════════╪══════════╪════════╡\n",
       "│ 102        ┆ 2020 ┆ 52000  ┆ Rafferty ┆ 31     │\n",
       "│ 102        ┆ 2021 ┆ 53000  ┆ Rafferty ┆ 31     │\n",
       "│ 102        ┆ 2022 ┆ 54000  ┆ Rafferty ┆ 31     │\n",
       "│ 105        ┆ 2020 ┆ 73000  ┆ Jones    ┆ 33     │\n",
       "│ 105        ┆ 2021 ┆ 74000  ┆ Jones    ┆ 33     │\n",
       "└────────────┴──────┴────────┴──────────┴────────┘"
      ]
     },
     "execution_count": 16,
     "metadata": {},
     "output_type": "execute_result"
    }
   ],
   "source": [
    "(salary\n",
    " .join(empl, on='EmployeeID', how='left')\n",
    ").head()"
   ]
  },
  {
   "cell_type": "markdown",
   "id": "4c5f345d",
   "metadata": {
    "slideshow": {
     "slide_type": "slide"
    }
   },
   "source": [
    "#### Edit 2  - Joining on the departments"
   ]
  },
  {
   "cell_type": "code",
   "execution_count": 17,
   "id": "a569b19c",
   "metadata": {
    "slideshow": {
     "slide_type": "fragment"
    }
   },
   "outputs": [
    {
     "data": {
      "text/html": [
       "<div><style>\n",
       ".dataframe > thead > tr,\n",
       ".dataframe > tbody > tr {\n",
       "  text-align: right;\n",
       "  white-space: pre-wrap;\n",
       "}\n",
       "</style>\n",
       "<small>shape: (5, 6)</small><table border=\"1\" class=\"dataframe\"><thead><tr><th>EmployeeID</th><th>Year</th><th>Salary</th><th>LastName</th><th>DeptID</th><th>DeptName</th></tr><tr><td>i64</td><td>i64</td><td>i64</td><td>str</td><td>i64</td><td>str</td></tr></thead><tbody><tr><td>102</td><td>2020</td><td>52000</td><td>&quot;Rafferty&quot;</td><td>31</td><td>&quot;Sales&quot;</td></tr><tr><td>102</td><td>2021</td><td>53000</td><td>&quot;Rafferty&quot;</td><td>31</td><td>&quot;Sales&quot;</td></tr><tr><td>102</td><td>2022</td><td>54000</td><td>&quot;Rafferty&quot;</td><td>31</td><td>&quot;Sales&quot;</td></tr><tr><td>105</td><td>2020</td><td>73000</td><td>&quot;Jones&quot;</td><td>33</td><td>&quot;Engineering&quot;</td></tr><tr><td>105</td><td>2021</td><td>74000</td><td>&quot;Jones&quot;</td><td>33</td><td>&quot;Engineering&quot;</td></tr></tbody></table></div>"
      ],
      "text/plain": [
       "shape: (5, 6)\n",
       "┌────────────┬──────┬────────┬──────────┬────────┬─────────────┐\n",
       "│ EmployeeID ┆ Year ┆ Salary ┆ LastName ┆ DeptID ┆ DeptName    │\n",
       "│ ---        ┆ ---  ┆ ---    ┆ ---      ┆ ---    ┆ ---         │\n",
       "│ i64        ┆ i64  ┆ i64    ┆ str      ┆ i64    ┆ str         │\n",
       "╞════════════╪══════╪════════╪══════════╪════════╪═════════════╡\n",
       "│ 102        ┆ 2020 ┆ 52000  ┆ Rafferty ┆ 31     ┆ Sales       │\n",
       "│ 102        ┆ 2021 ┆ 53000  ┆ Rafferty ┆ 31     ┆ Sales       │\n",
       "│ 102        ┆ 2022 ┆ 54000  ┆ Rafferty ┆ 31     ┆ Sales       │\n",
       "│ 105        ┆ 2020 ┆ 73000  ┆ Jones    ┆ 33     ┆ Engineering │\n",
       "│ 105        ┆ 2021 ┆ 74000  ┆ Jones    ┆ 33     ┆ Engineering │\n",
       "└────────────┴──────┴────────┴──────────┴────────┴─────────────┘"
      ]
     },
     "execution_count": 17,
     "metadata": {},
     "output_type": "execute_result"
    }
   ],
   "source": [
    "(salary\n",
    " .join(empl, on='EmployeeID', how='left')\n",
    " .join(dept, on='DeptID', how='left')\n",
    ").head()"
   ]
  },
  {
   "cell_type": "markdown",
   "id": "8c0a8c25",
   "metadata": {
    "slideshow": {
     "slide_type": "slide"
    }
   },
   "source": [
    "#### Edit 3  - Group and aggregate"
   ]
  },
  {
   "cell_type": "code",
   "execution_count": 18,
   "id": "1767b60d",
   "metadata": {
    "slideshow": {
     "slide_type": "fragment"
    }
   },
   "outputs": [
    {
     "data": {
      "text/html": [
       "<div><style>\n",
       ".dataframe > thead > tr,\n",
       ".dataframe > tbody > tr {\n",
       "  text-align: right;\n",
       "  white-space: pre-wrap;\n",
       "}\n",
       "</style>\n",
       "<small>shape: (4, 2)</small><table border=\"1\" class=\"dataframe\"><thead><tr><th>DeptName</th><th>Average Salary</th></tr><tr><td>str</td><td>f64</td></tr></thead><tbody><tr><td>&quot;Engineering&quot;</td><td>79000.0</td></tr><tr><td>&quot;Sales&quot;</td><td>53000.0</td></tr><tr><td>null</td><td>73000.0</td></tr><tr><td>&quot;Clerical&quot;</td><td>77000.0</td></tr></tbody></table></div>"
      ],
      "text/plain": [
       "shape: (4, 2)\n",
       "┌─────────────┬────────────────┐\n",
       "│ DeptName    ┆ Average Salary │\n",
       "│ ---         ┆ ---            │\n",
       "│ str         ┆ f64            │\n",
       "╞═════════════╪════════════════╡\n",
       "│ Engineering ┆ 79000.0        │\n",
       "│ Sales       ┆ 53000.0        │\n",
       "│ null        ┆ 73000.0        │\n",
       "│ Clerical    ┆ 77000.0        │\n",
       "└─────────────┴────────────────┘"
      ]
     },
     "execution_count": 18,
     "metadata": {},
     "output_type": "execute_result"
    }
   ],
   "source": [
    "(salary\n",
    " .join(empl, on='EmployeeID', how='left')\n",
    " .join(dept, on='DeptID', how='left')\n",
    " .group_by('DeptName')\n",
    " .agg([pl.col('Salary').mean().alias('Average Salary'),\n",
    "      ])\n",
    ")"
   ]
  },
  {
   "cell_type": "markdown",
   "id": "25834b09",
   "metadata": {
    "slideshow": {
     "slide_type": "slide"
    }
   },
   "source": [
    "#### Edit 4  - Sort the results from largest to smallest"
   ]
  },
  {
   "cell_type": "code",
   "execution_count": 19,
   "id": "f3d25fc0",
   "metadata": {
    "slideshow": {
     "slide_type": "fragment"
    }
   },
   "outputs": [
    {
     "data": {
      "text/html": [
       "<div><style>\n",
       ".dataframe > thead > tr,\n",
       ".dataframe > tbody > tr {\n",
       "  text-align: right;\n",
       "  white-space: pre-wrap;\n",
       "}\n",
       "</style>\n",
       "<small>shape: (4, 2)</small><table border=\"1\" class=\"dataframe\"><thead><tr><th>DeptName</th><th>Average Salary</th></tr><tr><td>str</td><td>f64</td></tr></thead><tbody><tr><td>&quot;Engineering&quot;</td><td>79000.0</td></tr><tr><td>&quot;Clerical&quot;</td><td>77000.0</td></tr><tr><td>null</td><td>73000.0</td></tr><tr><td>&quot;Sales&quot;</td><td>53000.0</td></tr></tbody></table></div>"
      ],
      "text/plain": [
       "shape: (4, 2)\n",
       "┌─────────────┬────────────────┐\n",
       "│ DeptName    ┆ Average Salary │\n",
       "│ ---         ┆ ---            │\n",
       "│ str         ┆ f64            │\n",
       "╞═════════════╪════════════════╡\n",
       "│ Engineering ┆ 79000.0        │\n",
       "│ Clerical    ┆ 77000.0        │\n",
       "│ null        ┆ 73000.0        │\n",
       "│ Sales       ┆ 53000.0        │\n",
       "└─────────────┴────────────────┘"
      ]
     },
     "execution_count": 19,
     "metadata": {},
     "output_type": "execute_result"
    }
   ],
   "source": [
    "(salary\n",
    " .join(empl, on='EmployeeID', how='left')\n",
    " .join(dept, on='DeptID', how='left')\n",
    " .group_by('DeptName')\n",
    " .agg([pl.col('Salary').mean().alias('Average Salary'),\n",
    "      ])\n",
    " .sort('Average Salary', descending=True)\n",
    ")"
   ]
  },
  {
   "cell_type": "markdown",
   "id": "e9d70090",
   "metadata": {},
   "source": [
    "## Example 2 - Joining Batting to People\n",
    "\n",
    "As an example of a joining on more than 1 column, consider the following task.\n",
    "\n",
    "**Task:** Create a table with the total runs score for each team in 2009.  Include the teams proper name and the name of their home park."
   ]
  },
  {
   "cell_type": "code",
   "execution_count": 20,
   "id": "8cfbe73d",
   "metadata": {},
   "outputs": [
    {
     "data": {
      "text/html": [
       "<div><style>\n",
       ".dataframe > thead > tr,\n",
       ".dataframe > tbody > tr {\n",
       "  text-align: right;\n",
       "  white-space: pre-wrap;\n",
       "}\n",
       "</style>\n",
       "<small>shape: (5, 22)</small><table border=\"1\" class=\"dataframe\"><thead><tr><th>playerID</th><th>yearID</th><th>stint</th><th>teamID</th><th>lgID</th><th>G</th><th>AB</th><th>R</th><th>H</th><th>2B</th><th>3B</th><th>HR</th><th>RBI</th><th>SB</th><th>CS</th><th>BB</th><th>SO</th><th>IBB</th><th>HBP</th><th>SH</th><th>SF</th><th>GIDP</th></tr><tr><td>str</td><td>i64</td><td>i64</td><td>str</td><td>str</td><td>i64</td><td>i64</td><td>i64</td><td>i64</td><td>i64</td><td>i64</td><td>i64</td><td>i64</td><td>i64</td><td>i64</td><td>i64</td><td>i64</td><td>str</td><td>str</td><td>str</td><td>str</td><td>i64</td></tr></thead><tbody><tr><td>&quot;abercda01&quot;</td><td>1871</td><td>1</td><td>&quot;TRO&quot;</td><td>&quot;NA&quot;</td><td>1</td><td>4</td><td>0</td><td>0</td><td>0</td><td>0</td><td>0</td><td>0</td><td>0</td><td>0</td><td>0</td><td>0</td><td>null</td><td>null</td><td>null</td><td>null</td><td>0</td></tr><tr><td>&quot;addybo01&quot;</td><td>1871</td><td>1</td><td>&quot;RC1&quot;</td><td>&quot;NA&quot;</td><td>25</td><td>118</td><td>30</td><td>32</td><td>6</td><td>0</td><td>0</td><td>13</td><td>8</td><td>1</td><td>4</td><td>0</td><td>null</td><td>null</td><td>null</td><td>null</td><td>0</td></tr><tr><td>&quot;allisar01&quot;</td><td>1871</td><td>1</td><td>&quot;CL1&quot;</td><td>&quot;NA&quot;</td><td>29</td><td>137</td><td>28</td><td>40</td><td>4</td><td>5</td><td>0</td><td>19</td><td>3</td><td>1</td><td>2</td><td>5</td><td>null</td><td>null</td><td>null</td><td>null</td><td>1</td></tr><tr><td>&quot;allisdo01&quot;</td><td>1871</td><td>1</td><td>&quot;WS3&quot;</td><td>&quot;NA&quot;</td><td>27</td><td>133</td><td>28</td><td>44</td><td>10</td><td>2</td><td>2</td><td>27</td><td>1</td><td>1</td><td>0</td><td>2</td><td>null</td><td>null</td><td>null</td><td>null</td><td>0</td></tr><tr><td>&quot;ansonca01&quot;</td><td>1871</td><td>1</td><td>&quot;RC1&quot;</td><td>&quot;NA&quot;</td><td>25</td><td>120</td><td>29</td><td>39</td><td>11</td><td>3</td><td>0</td><td>16</td><td>6</td><td>2</td><td>2</td><td>1</td><td>null</td><td>null</td><td>null</td><td>null</td><td>0</td></tr></tbody></table></div>"
      ],
      "text/plain": [
       "shape: (5, 22)\n",
       "┌───────────┬────────┬───────┬────────┬───┬──────┬──────┬──────┬──────┐\n",
       "│ playerID  ┆ yearID ┆ stint ┆ teamID ┆ … ┆ HBP  ┆ SH   ┆ SF   ┆ GIDP │\n",
       "│ ---       ┆ ---    ┆ ---   ┆ ---    ┆   ┆ ---  ┆ ---  ┆ ---  ┆ ---  │\n",
       "│ str       ┆ i64    ┆ i64   ┆ str    ┆   ┆ str  ┆ str  ┆ str  ┆ i64  │\n",
       "╞═══════════╪════════╪═══════╪════════╪═══╪══════╪══════╪══════╪══════╡\n",
       "│ abercda01 ┆ 1871   ┆ 1     ┆ TRO    ┆ … ┆ null ┆ null ┆ null ┆ 0    │\n",
       "│ addybo01  ┆ 1871   ┆ 1     ┆ RC1    ┆ … ┆ null ┆ null ┆ null ┆ 0    │\n",
       "│ allisar01 ┆ 1871   ┆ 1     ┆ CL1    ┆ … ┆ null ┆ null ┆ null ┆ 1    │\n",
       "│ allisdo01 ┆ 1871   ┆ 1     ┆ WS3    ┆ … ┆ null ┆ null ┆ null ┆ 0    │\n",
       "│ ansonca01 ┆ 1871   ┆ 1     ┆ RC1    ┆ … ┆ null ┆ null ┆ null ┆ 0    │\n",
       "└───────────┴────────┴───────┴────────┴───┴──────┴──────┴──────┴──────┘"
      ]
     },
     "execution_count": 20,
     "metadata": {},
     "output_type": "execute_result"
    }
   ],
   "source": [
    "batting = pl.read_csv(\"./sample_data/baseball/core/Batting.csv\")\n",
    "batting.head()"
   ]
  },
  {
   "cell_type": "code",
   "execution_count": 21,
   "id": "48fae7b6",
   "metadata": {},
   "outputs": [
    {
     "data": {
      "text/html": [
       "<div><style>\n",
       ".dataframe > thead > tr,\n",
       ".dataframe > tbody > tr {\n",
       "  text-align: right;\n",
       "  white-space: pre-wrap;\n",
       "}\n",
       "</style>\n",
       "<small>shape: (5, 48)</small><table border=\"1\" class=\"dataframe\"><thead><tr><th>yearID</th><th>lgID</th><th>teamID</th><th>franchID</th><th>divID</th><th>Rank</th><th>G</th><th>Ghome</th><th>W</th><th>L</th><th>DivWin</th><th>WCWin</th><th>LgWin</th><th>WSWin</th><th>R</th><th>AB</th><th>H</th><th>2B</th><th>3B</th><th>HR</th><th>BB</th><th>SO</th><th>SB</th><th>CS</th><th>HBP</th><th>SF</th><th>RA</th><th>ER</th><th>ERA</th><th>CG</th><th>SHO</th><th>SV</th><th>IPouts</th><th>HA</th><th>HRA</th><th>BBA</th><th>SOA</th><th>E</th><th>DP</th><th>FP</th><th>name</th><th>park</th><th>attendance</th><th>BPF</th><th>PPF</th><th>teamIDBR</th><th>teamIDlahman45</th><th>teamIDretro</th></tr><tr><td>i64</td><td>str</td><td>str</td><td>str</td><td>str</td><td>i64</td><td>i64</td><td>str</td><td>i64</td><td>i64</td><td>str</td><td>str</td><td>str</td><td>str</td><td>i64</td><td>i64</td><td>i64</td><td>i64</td><td>i64</td><td>i64</td><td>i64</td><td>i64</td><td>i64</td><td>i64</td><td>str</td><td>str</td><td>i64</td><td>i64</td><td>f64</td><td>i64</td><td>i64</td><td>i64</td><td>i64</td><td>i64</td><td>i64</td><td>i64</td><td>i64</td><td>i64</td><td>i64</td><td>f64</td><td>str</td><td>str</td><td>str</td><td>i64</td><td>i64</td><td>str</td><td>str</td><td>str</td></tr></thead><tbody><tr><td>1871</td><td>&quot;NA&quot;</td><td>&quot;BS1&quot;</td><td>&quot;BNA&quot;</td><td>null</td><td>3</td><td>31</td><td>null</td><td>20</td><td>10</td><td>null</td><td>null</td><td>&quot;N&quot;</td><td>null</td><td>401</td><td>1372</td><td>426</td><td>70</td><td>37</td><td>3</td><td>60</td><td>19</td><td>73</td><td>16</td><td>null</td><td>null</td><td>303</td><td>109</td><td>3.55</td><td>22</td><td>1</td><td>3</td><td>828</td><td>367</td><td>2</td><td>42</td><td>23</td><td>243</td><td>24</td><td>0.834</td><td>&quot;Boston Red Stockings&quot;</td><td>&quot;South End Grounds I&quot;</td><td>null</td><td>103</td><td>98</td><td>&quot;BOS&quot;</td><td>&quot;BS1&quot;</td><td>&quot;BS1&quot;</td></tr><tr><td>1871</td><td>&quot;NA&quot;</td><td>&quot;CH1&quot;</td><td>&quot;CNA&quot;</td><td>null</td><td>2</td><td>28</td><td>null</td><td>19</td><td>9</td><td>null</td><td>null</td><td>&quot;N&quot;</td><td>null</td><td>302</td><td>1196</td><td>323</td><td>52</td><td>21</td><td>10</td><td>60</td><td>22</td><td>69</td><td>21</td><td>null</td><td>null</td><td>241</td><td>77</td><td>2.76</td><td>25</td><td>0</td><td>1</td><td>753</td><td>308</td><td>6</td><td>28</td><td>22</td><td>229</td><td>16</td><td>0.829</td><td>&quot;Chicago White Stockings&quot;</td><td>&quot;Union Base-Ball Grounds&quot;</td><td>null</td><td>104</td><td>102</td><td>&quot;CHI&quot;</td><td>&quot;CH1&quot;</td><td>&quot;CH1&quot;</td></tr><tr><td>1871</td><td>&quot;NA&quot;</td><td>&quot;CL1&quot;</td><td>&quot;CFC&quot;</td><td>null</td><td>8</td><td>29</td><td>null</td><td>10</td><td>19</td><td>null</td><td>null</td><td>&quot;N&quot;</td><td>null</td><td>249</td><td>1186</td><td>328</td><td>35</td><td>40</td><td>7</td><td>26</td><td>25</td><td>18</td><td>8</td><td>null</td><td>null</td><td>341</td><td>116</td><td>4.11</td><td>23</td><td>0</td><td>0</td><td>762</td><td>346</td><td>13</td><td>53</td><td>34</td><td>234</td><td>15</td><td>0.818</td><td>&quot;Cleveland Forest Citys&quot;</td><td>&quot;National Association Grounds&quot;</td><td>null</td><td>96</td><td>100</td><td>&quot;CLE&quot;</td><td>&quot;CL1&quot;</td><td>&quot;CL1&quot;</td></tr><tr><td>1871</td><td>&quot;NA&quot;</td><td>&quot;FW1&quot;</td><td>&quot;KEK&quot;</td><td>null</td><td>7</td><td>19</td><td>null</td><td>7</td><td>12</td><td>null</td><td>null</td><td>&quot;N&quot;</td><td>null</td><td>137</td><td>746</td><td>178</td><td>19</td><td>8</td><td>2</td><td>33</td><td>9</td><td>16</td><td>4</td><td>null</td><td>null</td><td>243</td><td>97</td><td>5.17</td><td>19</td><td>1</td><td>0</td><td>507</td><td>261</td><td>5</td><td>21</td><td>17</td><td>163</td><td>8</td><td>0.803</td><td>&quot;Fort Wayne Kekiongas&quot;</td><td>&quot;Hamilton Field&quot;</td><td>null</td><td>101</td><td>107</td><td>&quot;KEK&quot;</td><td>&quot;FW1&quot;</td><td>&quot;FW1&quot;</td></tr><tr><td>1871</td><td>&quot;NA&quot;</td><td>&quot;NY2&quot;</td><td>&quot;NNA&quot;</td><td>null</td><td>5</td><td>33</td><td>null</td><td>16</td><td>17</td><td>null</td><td>null</td><td>&quot;N&quot;</td><td>null</td><td>302</td><td>1404</td><td>403</td><td>43</td><td>21</td><td>1</td><td>33</td><td>15</td><td>46</td><td>15</td><td>null</td><td>null</td><td>313</td><td>121</td><td>3.72</td><td>32</td><td>1</td><td>0</td><td>879</td><td>373</td><td>7</td><td>42</td><td>22</td><td>235</td><td>14</td><td>0.84</td><td>&quot;New York Mutuals&quot;</td><td>&quot;Union Grounds (Brooklyn)&quot;</td><td>null</td><td>90</td><td>88</td><td>&quot;NYU&quot;</td><td>&quot;NY2&quot;</td><td>&quot;NY2&quot;</td></tr></tbody></table></div>"
      ],
      "text/plain": [
       "shape: (5, 48)\n",
       "┌────────┬──────┬────────┬──────────┬───┬─────┬──────────┬────────────────┬─────────────┐\n",
       "│ yearID ┆ lgID ┆ teamID ┆ franchID ┆ … ┆ PPF ┆ teamIDBR ┆ teamIDlahman45 ┆ teamIDretro │\n",
       "│ ---    ┆ ---  ┆ ---    ┆ ---      ┆   ┆ --- ┆ ---      ┆ ---            ┆ ---         │\n",
       "│ i64    ┆ str  ┆ str    ┆ str      ┆   ┆ i64 ┆ str      ┆ str            ┆ str         │\n",
       "╞════════╪══════╪════════╪══════════╪═══╪═════╪══════════╪════════════════╪═════════════╡\n",
       "│ 1871   ┆ NA   ┆ BS1    ┆ BNA      ┆ … ┆ 98  ┆ BOS      ┆ BS1            ┆ BS1         │\n",
       "│ 1871   ┆ NA   ┆ CH1    ┆ CNA      ┆ … ┆ 102 ┆ CHI      ┆ CH1            ┆ CH1         │\n",
       "│ 1871   ┆ NA   ┆ CL1    ┆ CFC      ┆ … ┆ 100 ┆ CLE      ┆ CL1            ┆ CL1         │\n",
       "│ 1871   ┆ NA   ┆ FW1    ┆ KEK      ┆ … ┆ 107 ┆ KEK      ┆ FW1            ┆ FW1         │\n",
       "│ 1871   ┆ NA   ┆ NY2    ┆ NNA      ┆ … ┆ 88  ┆ NYU      ┆ NY2            ┆ NY2         │\n",
       "└────────┴──────┴────────┴──────────┴───┴─────┴──────────┴────────────────┴─────────────┘"
      ]
     },
     "execution_count": 21,
     "metadata": {},
     "output_type": "execute_result"
    }
   ],
   "source": [
    "teams = pl.read_csv(\"./sample_data/baseball/core/Teams.csv\")\n",
    "teams.head()"
   ]
  },
  {
   "cell_type": "markdown",
   "id": "e7517e07",
   "metadata": {},
   "source": [
    "## Things we need from `Batting.csv`\n",
    "\n",
    "* Year\n",
    "* Runs\n",
    "* Team"
   ]
  },
  {
   "cell_type": "code",
   "execution_count": 22,
   "id": "b9c81f54",
   "metadata": {
    "scrolled": true
   },
   "outputs": [
    {
     "data": {
      "text/html": [
       "<div><style>\n",
       ".dataframe > thead > tr,\n",
       ".dataframe > tbody > tr {\n",
       "  text-align: right;\n",
       "  white-space: pre-wrap;\n",
       "}\n",
       "</style>\n",
       "<small>shape: (2, 22)</small><table border=\"1\" class=\"dataframe\"><thead><tr><th>playerID</th><th>yearID</th><th>stint</th><th>teamID</th><th>lgID</th><th>G</th><th>AB</th><th>R</th><th>H</th><th>2B</th><th>3B</th><th>HR</th><th>RBI</th><th>SB</th><th>CS</th><th>BB</th><th>SO</th><th>IBB</th><th>HBP</th><th>SH</th><th>SF</th><th>GIDP</th></tr><tr><td>str</td><td>i64</td><td>i64</td><td>str</td><td>str</td><td>i64</td><td>i64</td><td>i64</td><td>i64</td><td>i64</td><td>i64</td><td>i64</td><td>i64</td><td>i64</td><td>i64</td><td>i64</td><td>i64</td><td>str</td><td>str</td><td>str</td><td>str</td><td>i64</td></tr></thead><tbody><tr><td>&quot;abercda01&quot;</td><td>1871</td><td>1</td><td>&quot;TRO&quot;</td><td>&quot;NA&quot;</td><td>1</td><td>4</td><td>0</td><td>0</td><td>0</td><td>0</td><td>0</td><td>0</td><td>0</td><td>0</td><td>0</td><td>0</td><td>null</td><td>null</td><td>null</td><td>null</td><td>0</td></tr><tr><td>&quot;addybo01&quot;</td><td>1871</td><td>1</td><td>&quot;RC1&quot;</td><td>&quot;NA&quot;</td><td>25</td><td>118</td><td>30</td><td>32</td><td>6</td><td>0</td><td>0</td><td>13</td><td>8</td><td>1</td><td>4</td><td>0</td><td>null</td><td>null</td><td>null</td><td>null</td><td>0</td></tr></tbody></table></div>"
      ],
      "text/plain": [
       "shape: (2, 22)\n",
       "┌───────────┬────────┬───────┬────────┬───┬──────┬──────┬──────┬──────┐\n",
       "│ playerID  ┆ yearID ┆ stint ┆ teamID ┆ … ┆ HBP  ┆ SH   ┆ SF   ┆ GIDP │\n",
       "│ ---       ┆ ---    ┆ ---   ┆ ---    ┆   ┆ ---  ┆ ---  ┆ ---  ┆ ---  │\n",
       "│ str       ┆ i64    ┆ i64   ┆ str    ┆   ┆ str  ┆ str  ┆ str  ┆ i64  │\n",
       "╞═══════════╪════════╪═══════╪════════╪═══╪══════╪══════╪══════╪══════╡\n",
       "│ abercda01 ┆ 1871   ┆ 1     ┆ TRO    ┆ … ┆ null ┆ null ┆ null ┆ 0    │\n",
       "│ addybo01  ┆ 1871   ┆ 1     ┆ RC1    ┆ … ┆ null ┆ null ┆ null ┆ 0    │\n",
       "└───────────┴────────┴───────┴────────┴───┴──────┴──────┴──────┴──────┘"
      ]
     },
     "execution_count": 22,
     "metadata": {},
     "output_type": "execute_result"
    }
   ],
   "source": [
    "batting.head(2)"
   ]
  },
  {
   "cell_type": "markdown",
   "id": "4b9f507b",
   "metadata": {},
   "source": [
    "#### Selecting down to the necessary columns"
   ]
  },
  {
   "cell_type": "code",
   "execution_count": 23,
   "id": "7d763545",
   "metadata": {},
   "outputs": [
    {
     "data": {
      "text/html": [
       "<div><style>\n",
       ".dataframe > thead > tr,\n",
       ".dataframe > tbody > tr {\n",
       "  text-align: right;\n",
       "  white-space: pre-wrap;\n",
       "}\n",
       "</style>\n",
       "<small>shape: (5, 3)</small><table border=\"1\" class=\"dataframe\"><thead><tr><th>teamID</th><th>yearID</th><th>R</th></tr><tr><td>str</td><td>i64</td><td>i64</td></tr></thead><tbody><tr><td>&quot;TRO&quot;</td><td>1871</td><td>0</td></tr><tr><td>&quot;RC1&quot;</td><td>1871</td><td>30</td></tr><tr><td>&quot;CL1&quot;</td><td>1871</td><td>28</td></tr><tr><td>&quot;WS3&quot;</td><td>1871</td><td>28</td></tr><tr><td>&quot;RC1&quot;</td><td>1871</td><td>29</td></tr></tbody></table></div>"
      ],
      "text/plain": [
       "shape: (5, 3)\n",
       "┌────────┬────────┬─────┐\n",
       "│ teamID ┆ yearID ┆ R   │\n",
       "│ ---    ┆ ---    ┆ --- │\n",
       "│ str    ┆ i64    ┆ i64 │\n",
       "╞════════╪════════╪═════╡\n",
       "│ TRO    ┆ 1871   ┆ 0   │\n",
       "│ RC1    ┆ 1871   ┆ 30  │\n",
       "│ CL1    ┆ 1871   ┆ 28  │\n",
       "│ WS3    ┆ 1871   ┆ 28  │\n",
       "│ RC1    ┆ 1871   ┆ 29  │\n",
       "└────────┴────────┴─────┘"
      ]
     },
     "execution_count": 23,
     "metadata": {},
     "output_type": "execute_result"
    }
   ],
   "source": [
    "batting_select = (batting\n",
    "                  .select(['teamID',\n",
    "                           'yearID',\n",
    "                           'R'])\n",
    "                 )\n",
    "batting_select.head()"
   ]
  },
  {
   "cell_type": "code",
   "execution_count": 24,
   "id": "abda9540",
   "metadata": {},
   "outputs": [
    {
     "data": {
      "text/plain": [
       "(107429, 3)"
      ]
     },
     "execution_count": 24,
     "metadata": {},
     "output_type": "execute_result"
    }
   ],
   "source": [
    "batting_select.shape"
   ]
  },
  {
   "cell_type": "markdown",
   "id": "9b9bba04",
   "metadata": {},
   "source": [
    "## Things we need from `Teams.csv`\n",
    "\n",
    "* Year\n",
    "* Runs\n",
    "* Team"
   ]
  },
  {
   "cell_type": "code",
   "execution_count": 25,
   "id": "f9f71cc6",
   "metadata": {
    "scrolled": true
   },
   "outputs": [
    {
     "data": {
      "text/html": [
       "<div><style>\n",
       ".dataframe > thead > tr,\n",
       ".dataframe > tbody > tr {\n",
       "  text-align: right;\n",
       "  white-space: pre-wrap;\n",
       "}\n",
       "</style>\n",
       "<small>shape: (2, 48)</small><table border=\"1\" class=\"dataframe\"><thead><tr><th>yearID</th><th>lgID</th><th>teamID</th><th>franchID</th><th>divID</th><th>Rank</th><th>G</th><th>Ghome</th><th>W</th><th>L</th><th>DivWin</th><th>WCWin</th><th>LgWin</th><th>WSWin</th><th>R</th><th>AB</th><th>H</th><th>2B</th><th>3B</th><th>HR</th><th>BB</th><th>SO</th><th>SB</th><th>CS</th><th>HBP</th><th>SF</th><th>RA</th><th>ER</th><th>ERA</th><th>CG</th><th>SHO</th><th>SV</th><th>IPouts</th><th>HA</th><th>HRA</th><th>BBA</th><th>SOA</th><th>E</th><th>DP</th><th>FP</th><th>name</th><th>park</th><th>attendance</th><th>BPF</th><th>PPF</th><th>teamIDBR</th><th>teamIDlahman45</th><th>teamIDretro</th></tr><tr><td>i64</td><td>str</td><td>str</td><td>str</td><td>str</td><td>i64</td><td>i64</td><td>str</td><td>i64</td><td>i64</td><td>str</td><td>str</td><td>str</td><td>str</td><td>i64</td><td>i64</td><td>i64</td><td>i64</td><td>i64</td><td>i64</td><td>i64</td><td>i64</td><td>i64</td><td>i64</td><td>str</td><td>str</td><td>i64</td><td>i64</td><td>f64</td><td>i64</td><td>i64</td><td>i64</td><td>i64</td><td>i64</td><td>i64</td><td>i64</td><td>i64</td><td>i64</td><td>i64</td><td>f64</td><td>str</td><td>str</td><td>str</td><td>i64</td><td>i64</td><td>str</td><td>str</td><td>str</td></tr></thead><tbody><tr><td>1871</td><td>&quot;NA&quot;</td><td>&quot;BS1&quot;</td><td>&quot;BNA&quot;</td><td>null</td><td>3</td><td>31</td><td>null</td><td>20</td><td>10</td><td>null</td><td>null</td><td>&quot;N&quot;</td><td>null</td><td>401</td><td>1372</td><td>426</td><td>70</td><td>37</td><td>3</td><td>60</td><td>19</td><td>73</td><td>16</td><td>null</td><td>null</td><td>303</td><td>109</td><td>3.55</td><td>22</td><td>1</td><td>3</td><td>828</td><td>367</td><td>2</td><td>42</td><td>23</td><td>243</td><td>24</td><td>0.834</td><td>&quot;Boston Red Stockings&quot;</td><td>&quot;South End Grounds I&quot;</td><td>null</td><td>103</td><td>98</td><td>&quot;BOS&quot;</td><td>&quot;BS1&quot;</td><td>&quot;BS1&quot;</td></tr><tr><td>1871</td><td>&quot;NA&quot;</td><td>&quot;CH1&quot;</td><td>&quot;CNA&quot;</td><td>null</td><td>2</td><td>28</td><td>null</td><td>19</td><td>9</td><td>null</td><td>null</td><td>&quot;N&quot;</td><td>null</td><td>302</td><td>1196</td><td>323</td><td>52</td><td>21</td><td>10</td><td>60</td><td>22</td><td>69</td><td>21</td><td>null</td><td>null</td><td>241</td><td>77</td><td>2.76</td><td>25</td><td>0</td><td>1</td><td>753</td><td>308</td><td>6</td><td>28</td><td>22</td><td>229</td><td>16</td><td>0.829</td><td>&quot;Chicago White Stockings&quot;</td><td>&quot;Union Base-Ball Grounds&quot;</td><td>null</td><td>104</td><td>102</td><td>&quot;CHI&quot;</td><td>&quot;CH1&quot;</td><td>&quot;CH1&quot;</td></tr></tbody></table></div>"
      ],
      "text/plain": [
       "shape: (2, 48)\n",
       "┌────────┬──────┬────────┬──────────┬───┬─────┬──────────┬────────────────┬─────────────┐\n",
       "│ yearID ┆ lgID ┆ teamID ┆ franchID ┆ … ┆ PPF ┆ teamIDBR ┆ teamIDlahman45 ┆ teamIDretro │\n",
       "│ ---    ┆ ---  ┆ ---    ┆ ---      ┆   ┆ --- ┆ ---      ┆ ---            ┆ ---         │\n",
       "│ i64    ┆ str  ┆ str    ┆ str      ┆   ┆ i64 ┆ str      ┆ str            ┆ str         │\n",
       "╞════════╪══════╪════════╪══════════╪═══╪═════╪══════════╪════════════════╪═════════════╡\n",
       "│ 1871   ┆ NA   ┆ BS1    ┆ BNA      ┆ … ┆ 98  ┆ BOS      ┆ BS1            ┆ BS1         │\n",
       "│ 1871   ┆ NA   ┆ CH1    ┆ CNA      ┆ … ┆ 102 ┆ CHI      ┆ CH1            ┆ CH1         │\n",
       "└────────┴──────┴────────┴──────────┴───┴─────┴──────────┴────────────────┴─────────────┘"
      ]
     },
     "execution_count": 25,
     "metadata": {},
     "output_type": "execute_result"
    }
   ],
   "source": [
    "teams.head(2)"
   ]
  },
  {
   "cell_type": "markdown",
   "id": "9c048e2a",
   "metadata": {},
   "source": [
    "#### Selecting down to the necessary columns"
   ]
  },
  {
   "cell_type": "code",
   "execution_count": 26,
   "id": "89088a93",
   "metadata": {
    "scrolled": true
   },
   "outputs": [
    {
     "data": {
      "text/html": [
       "<div><style>\n",
       ".dataframe > thead > tr,\n",
       ".dataframe > tbody > tr {\n",
       "  text-align: right;\n",
       "  white-space: pre-wrap;\n",
       "}\n",
       "</style>\n",
       "<small>shape: (5, 4)</small><table border=\"1\" class=\"dataframe\"><thead><tr><th>yearID</th><th>teamID</th><th>name</th><th>park</th></tr><tr><td>i64</td><td>str</td><td>str</td><td>str</td></tr></thead><tbody><tr><td>1871</td><td>&quot;BS1&quot;</td><td>&quot;Boston Red Stockings&quot;</td><td>&quot;South End Grounds I&quot;</td></tr><tr><td>1871</td><td>&quot;CH1&quot;</td><td>&quot;Chicago White Stockings&quot;</td><td>&quot;Union Base-Ball Grounds&quot;</td></tr><tr><td>1871</td><td>&quot;CL1&quot;</td><td>&quot;Cleveland Forest Citys&quot;</td><td>&quot;National Association Grounds&quot;</td></tr><tr><td>1871</td><td>&quot;FW1&quot;</td><td>&quot;Fort Wayne Kekiongas&quot;</td><td>&quot;Hamilton Field&quot;</td></tr><tr><td>1871</td><td>&quot;NY2&quot;</td><td>&quot;New York Mutuals&quot;</td><td>&quot;Union Grounds (Brooklyn)&quot;</td></tr></tbody></table></div>"
      ],
      "text/plain": [
       "shape: (5, 4)\n",
       "┌────────┬────────┬─────────────────────────┬──────────────────────────────┐\n",
       "│ yearID ┆ teamID ┆ name                    ┆ park                         │\n",
       "│ ---    ┆ ---    ┆ ---                     ┆ ---                          │\n",
       "│ i64    ┆ str    ┆ str                     ┆ str                          │\n",
       "╞════════╪════════╪═════════════════════════╪══════════════════════════════╡\n",
       "│ 1871   ┆ BS1    ┆ Boston Red Stockings    ┆ South End Grounds I          │\n",
       "│ 1871   ┆ CH1    ┆ Chicago White Stockings ┆ Union Base-Ball Grounds      │\n",
       "│ 1871   ┆ CL1    ┆ Cleveland Forest Citys  ┆ National Association Grounds │\n",
       "│ 1871   ┆ FW1    ┆ Fort Wayne Kekiongas    ┆ Hamilton Field               │\n",
       "│ 1871   ┆ NY2    ┆ New York Mutuals        ┆ Union Grounds (Brooklyn)     │\n",
       "└────────┴────────┴─────────────────────────┴──────────────────────────────┘"
      ]
     },
     "execution_count": 26,
     "metadata": {},
     "output_type": "execute_result"
    }
   ],
   "source": [
    "teams_select = (teams.select(['yearID',\n",
    "                              'teamID',\n",
    "                              'name',\n",
    "                              'park',\n",
    "                             ]))\n",
    "teams_select.head()"
   ]
  },
  {
   "cell_type": "code",
   "execution_count": 27,
   "id": "b3667d9e",
   "metadata": {},
   "outputs": [
    {
     "data": {
      "text/plain": [
       "(2925, 4)"
      ]
     },
     "execution_count": 27,
     "metadata": {},
     "output_type": "execute_result"
    }
   ],
   "source": [
    "teams_select.shape"
   ]
  },
  {
   "cell_type": "markdown",
   "id": "8aa6a725",
   "metadata": {},
   "source": [
    "## How can we match these columns?\n",
    "\n",
    "We will need to match on both `teamID` and `yearID` because\n",
    "\n",
    "1. Team names might change\n",
    "2. The teams park depends on the year."
   ]
  },
  {
   "cell_type": "markdown",
   "id": "3f525984",
   "metadata": {},
   "source": [
    "## Determining the correct join.\n",
    "\n",
    "Facts of the task:\n",
    "\n",
    "* We want batting statistics for all players in 2009\n",
    "* We want only teams names and parks for teams that played that year.\n",
    "\n",
    "**Question:** Which join? \n",
    "**Answer:** `batting >> left_join(teams)` on both year and "
   ]
  },
  {
   "cell_type": "markdown",
   "id": "f5299162",
   "metadata": {},
   "source": [
    "## How to join on multiple columns\n",
    "\n",
    "Pass a list of columns names to `on`"
   ]
  },
  {
   "cell_type": "code",
   "execution_count": 28,
   "id": "9a3b269c",
   "metadata": {},
   "outputs": [
    {
     "data": {
      "text/html": [
       "<div><style>\n",
       ".dataframe > thead > tr,\n",
       ".dataframe > tbody > tr {\n",
       "  text-align: right;\n",
       "  white-space: pre-wrap;\n",
       "}\n",
       "</style>\n",
       "<small>shape: (5, 5)</small><table border=\"1\" class=\"dataframe\"><thead><tr><th>teamID</th><th>yearID</th><th>R</th><th>name</th><th>park</th></tr><tr><td>str</td><td>i64</td><td>i64</td><td>str</td><td>str</td></tr></thead><tbody><tr><td>&quot;TRO&quot;</td><td>1871</td><td>0</td><td>&quot;Troy Haymakers&quot;</td><td>&quot;Haymakers&#x27; Grounds&quot;</td></tr><tr><td>&quot;RC1&quot;</td><td>1871</td><td>30</td><td>&quot;Rockford Forest Citys&quot;</td><td>&quot;Agricultural Society Fair Grou…</td></tr><tr><td>&quot;CL1&quot;</td><td>1871</td><td>28</td><td>&quot;Cleveland Forest Citys&quot;</td><td>&quot;National Association Grounds&quot;</td></tr><tr><td>&quot;WS3&quot;</td><td>1871</td><td>28</td><td>&quot;Washington Olympics&quot;</td><td>&quot;Olympics Grounds&quot;</td></tr><tr><td>&quot;RC1&quot;</td><td>1871</td><td>29</td><td>&quot;Rockford Forest Citys&quot;</td><td>&quot;Agricultural Society Fair Grou…</td></tr></tbody></table></div>"
      ],
      "text/plain": [
       "shape: (5, 5)\n",
       "┌────────┬────────┬─────┬────────────────────────┬─────────────────────────────────┐\n",
       "│ teamID ┆ yearID ┆ R   ┆ name                   ┆ park                            │\n",
       "│ ---    ┆ ---    ┆ --- ┆ ---                    ┆ ---                             │\n",
       "│ str    ┆ i64    ┆ i64 ┆ str                    ┆ str                             │\n",
       "╞════════╪════════╪═════╪════════════════════════╪═════════════════════════════════╡\n",
       "│ TRO    ┆ 1871   ┆ 0   ┆ Troy Haymakers         ┆ Haymakers' Grounds              │\n",
       "│ RC1    ┆ 1871   ┆ 30  ┆ Rockford Forest Citys  ┆ Agricultural Society Fair Grou… │\n",
       "│ CL1    ┆ 1871   ┆ 28  ┆ Cleveland Forest Citys ┆ National Association Grounds    │\n",
       "│ WS3    ┆ 1871   ┆ 28  ┆ Washington Olympics    ┆ Olympics Grounds                │\n",
       "│ RC1    ┆ 1871   ┆ 29  ┆ Rockford Forest Citys  ┆ Agricultural Society Fair Grou… │\n",
       "└────────┴────────┴─────┴────────────────────────┴─────────────────────────────────┘"
      ]
     },
     "execution_count": 28,
     "metadata": {},
     "output_type": "execute_result"
    }
   ],
   "source": [
    "df_joined = batting_select.join(teams_select, on=['teamID', 'yearID'], how='left')\n",
    "df_joined.head()"
   ]
  },
  {
   "cell_type": "code",
   "execution_count": 29,
   "id": "b7e08c34",
   "metadata": {},
   "outputs": [
    {
     "data": {
      "text/plain": [
       "(107429, 5)"
      ]
     },
     "execution_count": 29,
     "metadata": {},
     "output_type": "execute_result"
    }
   ],
   "source": [
    "df_joined.shape"
   ]
  },
  {
   "cell_type": "markdown",
   "id": "07e855b3",
   "metadata": {},
   "source": [
    "#### Filter, group by, and aggregate to get the desired result."
   ]
  },
  {
   "cell_type": "code",
   "execution_count": 30,
   "id": "54e99fa7",
   "metadata": {},
   "outputs": [
    {
     "data": {
      "text/html": [
       "<div><style>\n",
       ".dataframe > thead > tr,\n",
       ".dataframe > tbody > tr {\n",
       "  text-align: right;\n",
       "  white-space: pre-wrap;\n",
       "}\n",
       "</style>\n",
       "<small>shape: (5, 3)</small><table border=\"1\" class=\"dataframe\"><thead><tr><th>name</th><th>park</th><th>total_runs</th></tr><tr><td>str</td><td>str</td><td>i64</td></tr></thead><tbody><tr><td>&quot;Milwaukee Brewers&quot;</td><td>&quot;Miller Park&quot;</td><td>785</td></tr><tr><td>&quot;Baltimore Orioles&quot;</td><td>&quot;Oriole Park at Camden Yards&quot;</td><td>741</td></tr><tr><td>&quot;Cincinnati Reds&quot;</td><td>&quot;Great American Ball Park&quot;</td><td>673</td></tr><tr><td>&quot;Chicago White Sox&quot;</td><td>&quot;U.S. Cellular Field&quot;</td><td>724</td></tr><tr><td>&quot;Arizona Diamondbacks&quot;</td><td>&quot;Chase Field&quot;</td><td>720</td></tr></tbody></table></div>"
      ],
      "text/plain": [
       "shape: (5, 3)\n",
       "┌──────────────────────┬─────────────────────────────┬────────────┐\n",
       "│ name                 ┆ park                        ┆ total_runs │\n",
       "│ ---                  ┆ ---                         ┆ ---        │\n",
       "│ str                  ┆ str                         ┆ i64        │\n",
       "╞══════════════════════╪═════════════════════════════╪════════════╡\n",
       "│ Milwaukee Brewers    ┆ Miller Park                 ┆ 785        │\n",
       "│ Baltimore Orioles    ┆ Oriole Park at Camden Yards ┆ 741        │\n",
       "│ Cincinnati Reds      ┆ Great American Ball Park    ┆ 673        │\n",
       "│ Chicago White Sox    ┆ U.S. Cellular Field         ┆ 724        │\n",
       "│ Arizona Diamondbacks ┆ Chase Field                 ┆ 720        │\n",
       "└──────────────────────┴─────────────────────────────┴────────────┘"
      ]
     },
     "execution_count": 30,
     "metadata": {},
     "output_type": "execute_result"
    }
   ],
   "source": [
    "runs_per_team09 = (df_joined\n",
    "                   .filter(pl.col('yearID') == 2009)\n",
    "                   .group_by([pl.col('name'), pl.col('park')])\n",
    "                   .agg(pl.col('R').sum().alias('total_runs')))\n",
    "runs_per_team09.head()"
   ]
  },
  {
   "cell_type": "code",
   "execution_count": 31,
   "id": "70b7edf0",
   "metadata": {},
   "outputs": [
    {
     "data": {
      "text/plain": [
       "(30, 3)"
      ]
     },
     "execution_count": 31,
     "metadata": {},
     "output_type": "execute_result"
    }
   ],
   "source": [
    "runs_per_team09.shape"
   ]
  },
  {
   "cell_type": "markdown",
   "id": "fb328867-3940-4c41-8711-3f15a9a82456",
   "metadata": {
    "slideshow": {
     "slide_type": "slide"
    }
   },
   "source": [
    "## <font color=\"red\"> Exercise 7.3.2 </font>\n",
    "\n",
    "Determine all the players that have hit more than 30 home runs in a season.  The final table should include the players proper name, as well as the team name.  \n",
    "\n",
    "**Hint:** You will need join the `Batting.csv`, `People.csv`, and `Teams.csv` files.  To get credit for this exercise, use the join methods presented above."
   ]
  },
  {
   "cell_type": "code",
   "execution_count": 47,
   "id": "ad81a55b-40f0-4465-a200-e8a7eb6c80d2",
   "metadata": {},
   "outputs": [
    {
     "data": {
      "text/html": [
       "<div><style>\n",
       ".dataframe > thead > tr,\n",
       ".dataframe > tbody > tr {\n",
       "  text-align: right;\n",
       "  white-space: pre-wrap;\n",
       "}\n",
       "</style>\n",
       "<small>shape: (107_429, 22)</small><table border=\"1\" class=\"dataframe\"><thead><tr><th>playerID</th><th>yearID</th><th>stint</th><th>teamID</th><th>lgID</th><th>G</th><th>AB</th><th>R</th><th>H</th><th>2B</th><th>3B</th><th>HR</th><th>RBI</th><th>SB</th><th>CS</th><th>BB</th><th>SO</th><th>IBB</th><th>HBP</th><th>SH</th><th>SF</th><th>GIDP</th></tr><tr><td>str</td><td>i64</td><td>i64</td><td>str</td><td>str</td><td>i64</td><td>i64</td><td>i64</td><td>i64</td><td>i64</td><td>i64</td><td>i64</td><td>i64</td><td>i64</td><td>i64</td><td>i64</td><td>i64</td><td>str</td><td>str</td><td>str</td><td>str</td><td>i64</td></tr></thead><tbody><tr><td>&quot;abercda01&quot;</td><td>1871</td><td>1</td><td>&quot;TRO&quot;</td><td>&quot;NA&quot;</td><td>1</td><td>4</td><td>0</td><td>0</td><td>0</td><td>0</td><td>0</td><td>0</td><td>0</td><td>0</td><td>0</td><td>0</td><td>null</td><td>null</td><td>null</td><td>null</td><td>0</td></tr><tr><td>&quot;addybo01&quot;</td><td>1871</td><td>1</td><td>&quot;RC1&quot;</td><td>&quot;NA&quot;</td><td>25</td><td>118</td><td>30</td><td>32</td><td>6</td><td>0</td><td>0</td><td>13</td><td>8</td><td>1</td><td>4</td><td>0</td><td>null</td><td>null</td><td>null</td><td>null</td><td>0</td></tr><tr><td>&quot;allisar01&quot;</td><td>1871</td><td>1</td><td>&quot;CL1&quot;</td><td>&quot;NA&quot;</td><td>29</td><td>137</td><td>28</td><td>40</td><td>4</td><td>5</td><td>0</td><td>19</td><td>3</td><td>1</td><td>2</td><td>5</td><td>null</td><td>null</td><td>null</td><td>null</td><td>1</td></tr><tr><td>&quot;allisdo01&quot;</td><td>1871</td><td>1</td><td>&quot;WS3&quot;</td><td>&quot;NA&quot;</td><td>27</td><td>133</td><td>28</td><td>44</td><td>10</td><td>2</td><td>2</td><td>27</td><td>1</td><td>1</td><td>0</td><td>2</td><td>null</td><td>null</td><td>null</td><td>null</td><td>0</td></tr><tr><td>&quot;ansonca01&quot;</td><td>1871</td><td>1</td><td>&quot;RC1&quot;</td><td>&quot;NA&quot;</td><td>25</td><td>120</td><td>29</td><td>39</td><td>11</td><td>3</td><td>0</td><td>16</td><td>6</td><td>2</td><td>2</td><td>1</td><td>null</td><td>null</td><td>null</td><td>null</td><td>0</td></tr><tr><td>&hellip;</td><td>&hellip;</td><td>&hellip;</td><td>&hellip;</td><td>&hellip;</td><td>&hellip;</td><td>&hellip;</td><td>&hellip;</td><td>&hellip;</td><td>&hellip;</td><td>&hellip;</td><td>&hellip;</td><td>&hellip;</td><td>&hellip;</td><td>&hellip;</td><td>&hellip;</td><td>&hellip;</td><td>&hellip;</td><td>&hellip;</td><td>&hellip;</td><td>&hellip;</td><td>&hellip;</td></tr><tr><td>&quot;zimmejo02&quot;</td><td>2019</td><td>1</td><td>&quot;DET&quot;</td><td>&quot;AL&quot;</td><td>23</td><td>2</td><td>0</td><td>0</td><td>0</td><td>0</td><td>0</td><td>0</td><td>0</td><td>0</td><td>0</td><td>2</td><td>&quot;0&quot;</td><td>&quot;0&quot;</td><td>&quot;0&quot;</td><td>&quot;0&quot;</td><td>0</td></tr><tr><td>&quot;zimmeky01&quot;</td><td>2019</td><td>1</td><td>&quot;KCA&quot;</td><td>&quot;AL&quot;</td><td>15</td><td>0</td><td>0</td><td>0</td><td>0</td><td>0</td><td>0</td><td>0</td><td>0</td><td>0</td><td>0</td><td>0</td><td>&quot;0&quot;</td><td>&quot;0&quot;</td><td>&quot;0&quot;</td><td>&quot;0&quot;</td><td>0</td></tr><tr><td>&quot;zimmery01&quot;</td><td>2019</td><td>1</td><td>&quot;WAS&quot;</td><td>&quot;NL&quot;</td><td>52</td><td>171</td><td>20</td><td>44</td><td>9</td><td>0</td><td>6</td><td>27</td><td>0</td><td>0</td><td>17</td><td>39</td><td>&quot;0&quot;</td><td>&quot;0&quot;</td><td>&quot;0&quot;</td><td>&quot;2&quot;</td><td>4</td></tr><tr><td>&quot;zobribe01&quot;</td><td>2019</td><td>1</td><td>&quot;CHN&quot;</td><td>&quot;NL&quot;</td><td>47</td><td>150</td><td>24</td><td>39</td><td>5</td><td>0</td><td>1</td><td>17</td><td>0</td><td>0</td><td>23</td><td>24</td><td>&quot;0&quot;</td><td>&quot;1&quot;</td><td>&quot;0&quot;</td><td>&quot;2&quot;</td><td>6</td></tr><tr><td>&quot;zuninmi01&quot;</td><td>2019</td><td>1</td><td>&quot;TBA&quot;</td><td>&quot;AL&quot;</td><td>90</td><td>266</td><td>30</td><td>44</td><td>10</td><td>1</td><td>9</td><td>32</td><td>0</td><td>0</td><td>20</td><td>98</td><td>&quot;0&quot;</td><td>&quot;3&quot;</td><td>&quot;0&quot;</td><td>&quot;0&quot;</td><td>4</td></tr></tbody></table></div>"
      ],
      "text/plain": [
       "shape: (107_429, 22)\n",
       "┌───────────┬────────┬───────┬────────┬───┬──────┬──────┬──────┬──────┐\n",
       "│ playerID  ┆ yearID ┆ stint ┆ teamID ┆ … ┆ HBP  ┆ SH   ┆ SF   ┆ GIDP │\n",
       "│ ---       ┆ ---    ┆ ---   ┆ ---    ┆   ┆ ---  ┆ ---  ┆ ---  ┆ ---  │\n",
       "│ str       ┆ i64    ┆ i64   ┆ str    ┆   ┆ str  ┆ str  ┆ str  ┆ i64  │\n",
       "╞═══════════╪════════╪═══════╪════════╪═══╪══════╪══════╪══════╪══════╡\n",
       "│ abercda01 ┆ 1871   ┆ 1     ┆ TRO    ┆ … ┆ null ┆ null ┆ null ┆ 0    │\n",
       "│ addybo01  ┆ 1871   ┆ 1     ┆ RC1    ┆ … ┆ null ┆ null ┆ null ┆ 0    │\n",
       "│ allisar01 ┆ 1871   ┆ 1     ┆ CL1    ┆ … ┆ null ┆ null ┆ null ┆ 1    │\n",
       "│ allisdo01 ┆ 1871   ┆ 1     ┆ WS3    ┆ … ┆ null ┆ null ┆ null ┆ 0    │\n",
       "│ ansonca01 ┆ 1871   ┆ 1     ┆ RC1    ┆ … ┆ null ┆ null ┆ null ┆ 0    │\n",
       "│ …         ┆ …      ┆ …     ┆ …      ┆ … ┆ …    ┆ …    ┆ …    ┆ …    │\n",
       "│ zimmejo02 ┆ 2019   ┆ 1     ┆ DET    ┆ … ┆ 0    ┆ 0    ┆ 0    ┆ 0    │\n",
       "│ zimmeky01 ┆ 2019   ┆ 1     ┆ KCA    ┆ … ┆ 0    ┆ 0    ┆ 0    ┆ 0    │\n",
       "│ zimmery01 ┆ 2019   ┆ 1     ┆ WAS    ┆ … ┆ 0    ┆ 0    ┆ 2    ┆ 4    │\n",
       "│ zobribe01 ┆ 2019   ┆ 1     ┆ CHN    ┆ … ┆ 1    ┆ 0    ┆ 2    ┆ 6    │\n",
       "│ zuninmi01 ┆ 2019   ┆ 1     ┆ TBA    ┆ … ┆ 3    ┆ 0    ┆ 0    ┆ 4    │\n",
       "└───────────┴────────┴───────┴────────┴───┴──────┴──────┴──────┴──────┘"
      ]
     },
     "execution_count": 47,
     "metadata": {},
     "output_type": "execute_result"
    }
   ],
   "source": [
    "Batting = pl.read_csv(\"./sample_data/baseball/core/Batting.csv\")\n",
    "Batting"
   ]
  },
  {
   "cell_type": "code",
   "execution_count": 48,
   "id": "5aa21417-decc-401f-84e6-62aef397dd3a",
   "metadata": {},
   "outputs": [
    {
     "data": {
      "text/html": [
       "<div><style>\n",
       ".dataframe > thead > tr,\n",
       ".dataframe > tbody > tr {\n",
       "  text-align: right;\n",
       "  white-space: pre-wrap;\n",
       "}\n",
       "</style>\n",
       "<small>shape: (20_090, 24)</small><table border=\"1\" class=\"dataframe\"><thead><tr><th>playerID</th><th>birthYear</th><th>birthMonth</th><th>birthDay</th><th>birthCountry</th><th>birthState</th><th>birthCity</th><th>deathYear</th><th>deathMonth</th><th>deathDay</th><th>deathCountry</th><th>deathState</th><th>deathCity</th><th>nameFirst</th><th>nameLast</th><th>nameGiven</th><th>weight</th><th>height</th><th>bats</th><th>throws</th><th>debut</th><th>finalGame</th><th>retroID</th><th>bbrefID</th></tr><tr><td>str</td><td>i64</td><td>i64</td><td>i64</td><td>str</td><td>str</td><td>str</td><td>i64</td><td>i64</td><td>i64</td><td>str</td><td>str</td><td>str</td><td>str</td><td>str</td><td>str</td><td>i64</td><td>i64</td><td>str</td><td>str</td><td>str</td><td>str</td><td>str</td><td>str</td></tr></thead><tbody><tr><td>&quot;aardsda01&quot;</td><td>1981</td><td>12</td><td>27</td><td>&quot;USA&quot;</td><td>&quot;CO&quot;</td><td>&quot;Denver&quot;</td><td>null</td><td>null</td><td>null</td><td>null</td><td>null</td><td>null</td><td>&quot;David&quot;</td><td>&quot;Aardsma&quot;</td><td>&quot;David Allan&quot;</td><td>215</td><td>75</td><td>&quot;R&quot;</td><td>&quot;R&quot;</td><td>&quot;2004-04-06&quot;</td><td>&quot;2015-08-23&quot;</td><td>&quot;aardd001&quot;</td><td>&quot;aardsda01&quot;</td></tr><tr><td>&quot;aaronha01&quot;</td><td>1934</td><td>2</td><td>5</td><td>&quot;USA&quot;</td><td>&quot;AL&quot;</td><td>&quot;Mobile&quot;</td><td>null</td><td>null</td><td>null</td><td>null</td><td>null</td><td>null</td><td>&quot;Hank&quot;</td><td>&quot;Aaron&quot;</td><td>&quot;Henry Louis&quot;</td><td>180</td><td>72</td><td>&quot;R&quot;</td><td>&quot;R&quot;</td><td>&quot;1954-04-13&quot;</td><td>&quot;1976-10-03&quot;</td><td>&quot;aaroh101&quot;</td><td>&quot;aaronha01&quot;</td></tr><tr><td>&quot;aaronto01&quot;</td><td>1939</td><td>8</td><td>5</td><td>&quot;USA&quot;</td><td>&quot;AL&quot;</td><td>&quot;Mobile&quot;</td><td>1984</td><td>8</td><td>16</td><td>&quot;USA&quot;</td><td>&quot;GA&quot;</td><td>&quot;Atlanta&quot;</td><td>&quot;Tommie&quot;</td><td>&quot;Aaron&quot;</td><td>&quot;Tommie Lee&quot;</td><td>190</td><td>75</td><td>&quot;R&quot;</td><td>&quot;R&quot;</td><td>&quot;1962-04-10&quot;</td><td>&quot;1971-09-26&quot;</td><td>&quot;aarot101&quot;</td><td>&quot;aaronto01&quot;</td></tr><tr><td>&quot;aasedo01&quot;</td><td>1954</td><td>9</td><td>8</td><td>&quot;USA&quot;</td><td>&quot;CA&quot;</td><td>&quot;Orange&quot;</td><td>null</td><td>null</td><td>null</td><td>null</td><td>null</td><td>null</td><td>&quot;Don&quot;</td><td>&quot;Aase&quot;</td><td>&quot;Donald William&quot;</td><td>190</td><td>75</td><td>&quot;R&quot;</td><td>&quot;R&quot;</td><td>&quot;1977-07-26&quot;</td><td>&quot;1990-10-03&quot;</td><td>&quot;aased001&quot;</td><td>&quot;aasedo01&quot;</td></tr><tr><td>&quot;abadan01&quot;</td><td>1972</td><td>8</td><td>25</td><td>&quot;USA&quot;</td><td>&quot;FL&quot;</td><td>&quot;Palm Beach&quot;</td><td>null</td><td>null</td><td>null</td><td>null</td><td>null</td><td>null</td><td>&quot;Andy&quot;</td><td>&quot;Abad&quot;</td><td>&quot;Fausto Andres&quot;</td><td>184</td><td>73</td><td>&quot;L&quot;</td><td>&quot;L&quot;</td><td>&quot;2001-09-10&quot;</td><td>&quot;2006-04-13&quot;</td><td>&quot;abada001&quot;</td><td>&quot;abadan01&quot;</td></tr><tr><td>&hellip;</td><td>&hellip;</td><td>&hellip;</td><td>&hellip;</td><td>&hellip;</td><td>&hellip;</td><td>&hellip;</td><td>&hellip;</td><td>&hellip;</td><td>&hellip;</td><td>&hellip;</td><td>&hellip;</td><td>&hellip;</td><td>&hellip;</td><td>&hellip;</td><td>&hellip;</td><td>&hellip;</td><td>&hellip;</td><td>&hellip;</td><td>&hellip;</td><td>&hellip;</td><td>&hellip;</td><td>&hellip;</td><td>&hellip;</td></tr><tr><td>&quot;zupofr01&quot;</td><td>1939</td><td>8</td><td>29</td><td>&quot;USA&quot;</td><td>&quot;CA&quot;</td><td>&quot;San Francisco&quot;</td><td>2005</td><td>3</td><td>25</td><td>&quot;USA&quot;</td><td>&quot;CA&quot;</td><td>&quot;Burlingame&quot;</td><td>&quot;Frank&quot;</td><td>&quot;Zupo&quot;</td><td>&quot;Frank Joseph&quot;</td><td>182</td><td>71</td><td>&quot;L&quot;</td><td>&quot;R&quot;</td><td>&quot;1957-07-01&quot;</td><td>&quot;1961-05-09&quot;</td><td>&quot;zupof101&quot;</td><td>&quot;zupofr01&quot;</td></tr><tr><td>&quot;zuvelpa01&quot;</td><td>1958</td><td>10</td><td>31</td><td>&quot;USA&quot;</td><td>&quot;CA&quot;</td><td>&quot;San Mateo&quot;</td><td>null</td><td>null</td><td>null</td><td>null</td><td>null</td><td>null</td><td>&quot;Paul&quot;</td><td>&quot;Zuvella&quot;</td><td>&quot;Paul&quot;</td><td>173</td><td>72</td><td>&quot;R&quot;</td><td>&quot;R&quot;</td><td>&quot;1982-09-04&quot;</td><td>&quot;1991-05-02&quot;</td><td>&quot;zuvep001&quot;</td><td>&quot;zuvelpa01&quot;</td></tr><tr><td>&quot;zuverge01&quot;</td><td>1924</td><td>8</td><td>20</td><td>&quot;USA&quot;</td><td>&quot;MI&quot;</td><td>&quot;Holland&quot;</td><td>2014</td><td>9</td><td>8</td><td>&quot;USA&quot;</td><td>&quot;AZ&quot;</td><td>&quot;Tempe&quot;</td><td>&quot;George&quot;</td><td>&quot;Zuverink&quot;</td><td>&quot;George&quot;</td><td>195</td><td>76</td><td>&quot;R&quot;</td><td>&quot;R&quot;</td><td>&quot;1951-04-21&quot;</td><td>&quot;1959-06-15&quot;</td><td>&quot;zuveg101&quot;</td><td>&quot;zuverge01&quot;</td></tr><tr><td>&quot;zwilldu01&quot;</td><td>1888</td><td>11</td><td>2</td><td>&quot;USA&quot;</td><td>&quot;MO&quot;</td><td>&quot;St. Louis&quot;</td><td>1978</td><td>3</td><td>27</td><td>&quot;USA&quot;</td><td>&quot;CA&quot;</td><td>&quot;La Crescenta&quot;</td><td>&quot;Dutch&quot;</td><td>&quot;Zwilling&quot;</td><td>&quot;Edward Harrison&quot;</td><td>160</td><td>66</td><td>&quot;L&quot;</td><td>&quot;L&quot;</td><td>&quot;1910-08-14&quot;</td><td>&quot;1916-07-12&quot;</td><td>&quot;zwild101&quot;</td><td>&quot;zwilldu01&quot;</td></tr><tr><td>&quot;zychto01&quot;</td><td>1990</td><td>8</td><td>7</td><td>&quot;USA&quot;</td><td>&quot;IL&quot;</td><td>&quot;Monee&quot;</td><td>null</td><td>null</td><td>null</td><td>null</td><td>null</td><td>null</td><td>&quot;Tony&quot;</td><td>&quot;Zych&quot;</td><td>&quot;Anthony Aaron&quot;</td><td>190</td><td>75</td><td>&quot;R&quot;</td><td>&quot;R&quot;</td><td>&quot;2015-09-04&quot;</td><td>&quot;2017-08-19&quot;</td><td>&quot;zycht001&quot;</td><td>&quot;zychto01&quot;</td></tr></tbody></table></div>"
      ],
      "text/plain": [
       "shape: (20_090, 24)\n",
       "┌───────────┬───────────┬────────────┬──────────┬───┬───────────┬───────────┬──────────┬───────────┐\n",
       "│ playerID  ┆ birthYear ┆ birthMonth ┆ birthDay ┆ … ┆ debut     ┆ finalGame ┆ retroID  ┆ bbrefID   │\n",
       "│ ---       ┆ ---       ┆ ---        ┆ ---      ┆   ┆ ---       ┆ ---       ┆ ---      ┆ ---       │\n",
       "│ str       ┆ i64       ┆ i64        ┆ i64      ┆   ┆ str       ┆ str       ┆ str      ┆ str       │\n",
       "╞═══════════╪═══════════╪════════════╪══════════╪═══╪═══════════╪═══════════╪══════════╪═══════════╡\n",
       "│ aardsda01 ┆ 1981      ┆ 12         ┆ 27       ┆ … ┆ 2004-04-0 ┆ 2015-08-2 ┆ aardd001 ┆ aardsda01 │\n",
       "│           ┆           ┆            ┆          ┆   ┆ 6         ┆ 3         ┆          ┆           │\n",
       "│ aaronha01 ┆ 1934      ┆ 2          ┆ 5        ┆ … ┆ 1954-04-1 ┆ 1976-10-0 ┆ aaroh101 ┆ aaronha01 │\n",
       "│           ┆           ┆            ┆          ┆   ┆ 3         ┆ 3         ┆          ┆           │\n",
       "│ aaronto01 ┆ 1939      ┆ 8          ┆ 5        ┆ … ┆ 1962-04-1 ┆ 1971-09-2 ┆ aarot101 ┆ aaronto01 │\n",
       "│           ┆           ┆            ┆          ┆   ┆ 0         ┆ 6         ┆          ┆           │\n",
       "│ aasedo01  ┆ 1954      ┆ 9          ┆ 8        ┆ … ┆ 1977-07-2 ┆ 1990-10-0 ┆ aased001 ┆ aasedo01  │\n",
       "│           ┆           ┆            ┆          ┆   ┆ 6         ┆ 3         ┆          ┆           │\n",
       "│ abadan01  ┆ 1972      ┆ 8          ┆ 25       ┆ … ┆ 2001-09-1 ┆ 2006-04-1 ┆ abada001 ┆ abadan01  │\n",
       "│           ┆           ┆            ┆          ┆   ┆ 0         ┆ 3         ┆          ┆           │\n",
       "│ …         ┆ …         ┆ …          ┆ …        ┆ … ┆ …         ┆ …         ┆ …        ┆ …         │\n",
       "│ zupofr01  ┆ 1939      ┆ 8          ┆ 29       ┆ … ┆ 1957-07-0 ┆ 1961-05-0 ┆ zupof101 ┆ zupofr01  │\n",
       "│           ┆           ┆            ┆          ┆   ┆ 1         ┆ 9         ┆          ┆           │\n",
       "│ zuvelpa01 ┆ 1958      ┆ 10         ┆ 31       ┆ … ┆ 1982-09-0 ┆ 1991-05-0 ┆ zuvep001 ┆ zuvelpa01 │\n",
       "│           ┆           ┆            ┆          ┆   ┆ 4         ┆ 2         ┆          ┆           │\n",
       "│ zuverge01 ┆ 1924      ┆ 8          ┆ 20       ┆ … ┆ 1951-04-2 ┆ 1959-06-1 ┆ zuveg101 ┆ zuverge01 │\n",
       "│           ┆           ┆            ┆          ┆   ┆ 1         ┆ 5         ┆          ┆           │\n",
       "│ zwilldu01 ┆ 1888      ┆ 11         ┆ 2        ┆ … ┆ 1910-08-1 ┆ 1916-07-1 ┆ zwild101 ┆ zwilldu01 │\n",
       "│           ┆           ┆            ┆          ┆   ┆ 4         ┆ 2         ┆          ┆           │\n",
       "│ zychto01  ┆ 1990      ┆ 8          ┆ 7        ┆ … ┆ 2015-09-0 ┆ 2017-08-1 ┆ zycht001 ┆ zychto01  │\n",
       "│           ┆           ┆            ┆          ┆   ┆ 4         ┆ 9         ┆          ┆           │\n",
       "└───────────┴───────────┴────────────┴──────────┴───┴───────────┴───────────┴──────────┴───────────┘"
      ]
     },
     "execution_count": 48,
     "metadata": {},
     "output_type": "execute_result"
    }
   ],
   "source": [
    "People = pl.read_csv(\"./sample_data/baseball/core/People.csv\")\n",
    "People"
   ]
  },
  {
   "cell_type": "code",
   "execution_count": 50,
   "id": "6375fa61-4598-46fb-92e4-a12aff752130",
   "metadata": {},
   "outputs": [
    {
     "data": {
      "text/html": [
       "<div><style>\n",
       ".dataframe > thead > tr,\n",
       ".dataframe > tbody > tr {\n",
       "  text-align: right;\n",
       "  white-space: pre-wrap;\n",
       "}\n",
       "</style>\n",
       "<small>shape: (2_925, 48)</small><table border=\"1\" class=\"dataframe\"><thead><tr><th>yearID</th><th>lgID</th><th>teamID</th><th>franchID</th><th>divID</th><th>Rank</th><th>G</th><th>Ghome</th><th>W</th><th>L</th><th>DivWin</th><th>WCWin</th><th>LgWin</th><th>WSWin</th><th>R</th><th>AB</th><th>H</th><th>2B</th><th>3B</th><th>HR</th><th>BB</th><th>SO</th><th>SB</th><th>CS</th><th>HBP</th><th>SF</th><th>RA</th><th>ER</th><th>ERA</th><th>CG</th><th>SHO</th><th>SV</th><th>IPouts</th><th>HA</th><th>HRA</th><th>BBA</th><th>SOA</th><th>E</th><th>DP</th><th>FP</th><th>name</th><th>park</th><th>attendance</th><th>BPF</th><th>PPF</th><th>teamIDBR</th><th>teamIDlahman45</th><th>teamIDretro</th></tr><tr><td>i64</td><td>str</td><td>str</td><td>str</td><td>str</td><td>i64</td><td>i64</td><td>str</td><td>i64</td><td>i64</td><td>str</td><td>str</td><td>str</td><td>str</td><td>i64</td><td>i64</td><td>i64</td><td>i64</td><td>i64</td><td>i64</td><td>i64</td><td>i64</td><td>i64</td><td>i64</td><td>str</td><td>str</td><td>i64</td><td>i64</td><td>f64</td><td>i64</td><td>i64</td><td>i64</td><td>i64</td><td>i64</td><td>i64</td><td>i64</td><td>i64</td><td>i64</td><td>i64</td><td>f64</td><td>str</td><td>str</td><td>str</td><td>i64</td><td>i64</td><td>str</td><td>str</td><td>str</td></tr></thead><tbody><tr><td>1871</td><td>&quot;NA&quot;</td><td>&quot;BS1&quot;</td><td>&quot;BNA&quot;</td><td>null</td><td>3</td><td>31</td><td>null</td><td>20</td><td>10</td><td>null</td><td>null</td><td>&quot;N&quot;</td><td>null</td><td>401</td><td>1372</td><td>426</td><td>70</td><td>37</td><td>3</td><td>60</td><td>19</td><td>73</td><td>16</td><td>null</td><td>null</td><td>303</td><td>109</td><td>3.55</td><td>22</td><td>1</td><td>3</td><td>828</td><td>367</td><td>2</td><td>42</td><td>23</td><td>243</td><td>24</td><td>0.834</td><td>&quot;Boston Red Stockings&quot;</td><td>&quot;South End Grounds I&quot;</td><td>null</td><td>103</td><td>98</td><td>&quot;BOS&quot;</td><td>&quot;BS1&quot;</td><td>&quot;BS1&quot;</td></tr><tr><td>1871</td><td>&quot;NA&quot;</td><td>&quot;CH1&quot;</td><td>&quot;CNA&quot;</td><td>null</td><td>2</td><td>28</td><td>null</td><td>19</td><td>9</td><td>null</td><td>null</td><td>&quot;N&quot;</td><td>null</td><td>302</td><td>1196</td><td>323</td><td>52</td><td>21</td><td>10</td><td>60</td><td>22</td><td>69</td><td>21</td><td>null</td><td>null</td><td>241</td><td>77</td><td>2.76</td><td>25</td><td>0</td><td>1</td><td>753</td><td>308</td><td>6</td><td>28</td><td>22</td><td>229</td><td>16</td><td>0.829</td><td>&quot;Chicago White Stockings&quot;</td><td>&quot;Union Base-Ball Grounds&quot;</td><td>null</td><td>104</td><td>102</td><td>&quot;CHI&quot;</td><td>&quot;CH1&quot;</td><td>&quot;CH1&quot;</td></tr><tr><td>1871</td><td>&quot;NA&quot;</td><td>&quot;CL1&quot;</td><td>&quot;CFC&quot;</td><td>null</td><td>8</td><td>29</td><td>null</td><td>10</td><td>19</td><td>null</td><td>null</td><td>&quot;N&quot;</td><td>null</td><td>249</td><td>1186</td><td>328</td><td>35</td><td>40</td><td>7</td><td>26</td><td>25</td><td>18</td><td>8</td><td>null</td><td>null</td><td>341</td><td>116</td><td>4.11</td><td>23</td><td>0</td><td>0</td><td>762</td><td>346</td><td>13</td><td>53</td><td>34</td><td>234</td><td>15</td><td>0.818</td><td>&quot;Cleveland Forest Citys&quot;</td><td>&quot;National Association Grounds&quot;</td><td>null</td><td>96</td><td>100</td><td>&quot;CLE&quot;</td><td>&quot;CL1&quot;</td><td>&quot;CL1&quot;</td></tr><tr><td>1871</td><td>&quot;NA&quot;</td><td>&quot;FW1&quot;</td><td>&quot;KEK&quot;</td><td>null</td><td>7</td><td>19</td><td>null</td><td>7</td><td>12</td><td>null</td><td>null</td><td>&quot;N&quot;</td><td>null</td><td>137</td><td>746</td><td>178</td><td>19</td><td>8</td><td>2</td><td>33</td><td>9</td><td>16</td><td>4</td><td>null</td><td>null</td><td>243</td><td>97</td><td>5.17</td><td>19</td><td>1</td><td>0</td><td>507</td><td>261</td><td>5</td><td>21</td><td>17</td><td>163</td><td>8</td><td>0.803</td><td>&quot;Fort Wayne Kekiongas&quot;</td><td>&quot;Hamilton Field&quot;</td><td>null</td><td>101</td><td>107</td><td>&quot;KEK&quot;</td><td>&quot;FW1&quot;</td><td>&quot;FW1&quot;</td></tr><tr><td>1871</td><td>&quot;NA&quot;</td><td>&quot;NY2&quot;</td><td>&quot;NNA&quot;</td><td>null</td><td>5</td><td>33</td><td>null</td><td>16</td><td>17</td><td>null</td><td>null</td><td>&quot;N&quot;</td><td>null</td><td>302</td><td>1404</td><td>403</td><td>43</td><td>21</td><td>1</td><td>33</td><td>15</td><td>46</td><td>15</td><td>null</td><td>null</td><td>313</td><td>121</td><td>3.72</td><td>32</td><td>1</td><td>0</td><td>879</td><td>373</td><td>7</td><td>42</td><td>22</td><td>235</td><td>14</td><td>0.84</td><td>&quot;New York Mutuals&quot;</td><td>&quot;Union Grounds (Brooklyn)&quot;</td><td>null</td><td>90</td><td>88</td><td>&quot;NYU&quot;</td><td>&quot;NY2&quot;</td><td>&quot;NY2&quot;</td></tr><tr><td>&hellip;</td><td>&hellip;</td><td>&hellip;</td><td>&hellip;</td><td>&hellip;</td><td>&hellip;</td><td>&hellip;</td><td>&hellip;</td><td>&hellip;</td><td>&hellip;</td><td>&hellip;</td><td>&hellip;</td><td>&hellip;</td><td>&hellip;</td><td>&hellip;</td><td>&hellip;</td><td>&hellip;</td><td>&hellip;</td><td>&hellip;</td><td>&hellip;</td><td>&hellip;</td><td>&hellip;</td><td>&hellip;</td><td>&hellip;</td><td>&hellip;</td><td>&hellip;</td><td>&hellip;</td><td>&hellip;</td><td>&hellip;</td><td>&hellip;</td><td>&hellip;</td><td>&hellip;</td><td>&hellip;</td><td>&hellip;</td><td>&hellip;</td><td>&hellip;</td><td>&hellip;</td><td>&hellip;</td><td>&hellip;</td><td>&hellip;</td><td>&hellip;</td><td>&hellip;</td><td>&hellip;</td><td>&hellip;</td><td>&hellip;</td><td>&hellip;</td><td>&hellip;</td><td>&hellip;</td></tr><tr><td>2019</td><td>&quot;NL&quot;</td><td>&quot;SLN&quot;</td><td>&quot;STL&quot;</td><td>&quot;C&quot;</td><td>1</td><td>162</td><td>&quot;81&quot;</td><td>91</td><td>71</td><td>&quot;Y&quot;</td><td>&quot;N&quot;</td><td>&quot;N&quot;</td><td>&quot;N&quot;</td><td>764</td><td>5449</td><td>1336</td><td>246</td><td>24</td><td>210</td><td>561</td><td>1420</td><td>116</td><td>29</td><td>&quot;76&quot;</td><td>&quot;39&quot;</td><td>662</td><td>609</td><td>3.8</td><td>1</td><td>14</td><td>52</td><td>4332</td><td>1284</td><td>191</td><td>545</td><td>1399</td><td>66</td><td>168</td><td>0.989</td><td>&quot;St. Louis Cardinals&quot;</td><td>&quot;Busch Stadium III&quot;</td><td>&quot;3480393&quot;</td><td>98</td><td>97</td><td>&quot;STL&quot;</td><td>&quot;SLN&quot;</td><td>&quot;SLN&quot;</td></tr><tr><td>2019</td><td>&quot;AL&quot;</td><td>&quot;TBA&quot;</td><td>&quot;TBD&quot;</td><td>&quot;E&quot;</td><td>2</td><td>162</td><td>&quot;81&quot;</td><td>96</td><td>66</td><td>&quot;N&quot;</td><td>&quot;Y&quot;</td><td>&quot;N&quot;</td><td>&quot;N&quot;</td><td>769</td><td>5628</td><td>1427</td><td>291</td><td>29</td><td>217</td><td>542</td><td>1493</td><td>94</td><td>37</td><td>&quot;73&quot;</td><td>&quot;34&quot;</td><td>656</td><td>598</td><td>3.65</td><td>0</td><td>12</td><td>46</td><td>4423</td><td>1274</td><td>181</td><td>453</td><td>1621</td><td>87</td><td>126</td><td>0.985</td><td>&quot;Tampa Bay Rays&quot;</td><td>&quot;Tropicana Field&quot;</td><td>&quot;1178735&quot;</td><td>97</td><td>96</td><td>&quot;TBR&quot;</td><td>&quot;TBA&quot;</td><td>&quot;TBA&quot;</td></tr><tr><td>2019</td><td>&quot;AL&quot;</td><td>&quot;TEX&quot;</td><td>&quot;TEX&quot;</td><td>&quot;W&quot;</td><td>3</td><td>162</td><td>&quot;81&quot;</td><td>78</td><td>84</td><td>&quot;N&quot;</td><td>&quot;N&quot;</td><td>&quot;N&quot;</td><td>&quot;N&quot;</td><td>810</td><td>5540</td><td>1374</td><td>296</td><td>24</td><td>223</td><td>534</td><td>1578</td><td>131</td><td>38</td><td>&quot;67&quot;</td><td>&quot;44&quot;</td><td>878</td><td>808</td><td>5.06</td><td>4</td><td>9</td><td>33</td><td>4314</td><td>1515</td><td>241</td><td>583</td><td>1379</td><td>105</td><td>143</td><td>0.982</td><td>&quot;Texas Rangers&quot;</td><td>&quot;Globe Life Park in Arlington&quot;</td><td>&quot;2132994&quot;</td><td>111</td><td>112</td><td>&quot;TEX&quot;</td><td>&quot;TEX&quot;</td><td>&quot;TEX&quot;</td></tr><tr><td>2019</td><td>&quot;AL&quot;</td><td>&quot;TOR&quot;</td><td>&quot;TOR&quot;</td><td>&quot;E&quot;</td><td>4</td><td>162</td><td>&quot;81&quot;</td><td>67</td><td>95</td><td>&quot;N&quot;</td><td>&quot;N&quot;</td><td>&quot;N&quot;</td><td>&quot;N&quot;</td><td>726</td><td>5493</td><td>1299</td><td>270</td><td>21</td><td>247</td><td>509</td><td>1514</td><td>51</td><td>20</td><td>&quot;45&quot;</td><td>&quot;28&quot;</td><td>828</td><td>767</td><td>4.79</td><td>1</td><td>7</td><td>33</td><td>4321</td><td>1450</td><td>228</td><td>604</td><td>1332</td><td>96</td><td>141</td><td>0.984</td><td>&quot;Toronto Blue Jays&quot;</td><td>&quot;Rogers Centre&quot;</td><td>&quot;1750114&quot;</td><td>97</td><td>98</td><td>&quot;TOR&quot;</td><td>&quot;TOR&quot;</td><td>&quot;TOR&quot;</td></tr><tr><td>2019</td><td>&quot;NL&quot;</td><td>&quot;WAS&quot;</td><td>&quot;WSN&quot;</td><td>&quot;E&quot;</td><td>2</td><td>162</td><td>&quot;81&quot;</td><td>93</td><td>69</td><td>&quot;N&quot;</td><td>&quot;Y&quot;</td><td>&quot;Y&quot;</td><td>&quot;Y&quot;</td><td>873</td><td>5512</td><td>1460</td><td>298</td><td>27</td><td>231</td><td>584</td><td>1308</td><td>116</td><td>29</td><td>&quot;81&quot;</td><td>&quot;42&quot;</td><td>724</td><td>683</td><td>4.27</td><td>1</td><td>13</td><td>40</td><td>4318</td><td>1340</td><td>202</td><td>517</td><td>1511</td><td>87</td><td>111</td><td>0.985</td><td>&quot;Washington Nationals&quot;</td><td>&quot;Nationals Park&quot;</td><td>&quot;2259781&quot;</td><td>106</td><td>104</td><td>&quot;WSN&quot;</td><td>&quot;MON&quot;</td><td>&quot;WAS&quot;</td></tr></tbody></table></div>"
      ],
      "text/plain": [
       "shape: (2_925, 48)\n",
       "┌────────┬──────┬────────┬──────────┬───┬─────┬──────────┬────────────────┬─────────────┐\n",
       "│ yearID ┆ lgID ┆ teamID ┆ franchID ┆ … ┆ PPF ┆ teamIDBR ┆ teamIDlahman45 ┆ teamIDretro │\n",
       "│ ---    ┆ ---  ┆ ---    ┆ ---      ┆   ┆ --- ┆ ---      ┆ ---            ┆ ---         │\n",
       "│ i64    ┆ str  ┆ str    ┆ str      ┆   ┆ i64 ┆ str      ┆ str            ┆ str         │\n",
       "╞════════╪══════╪════════╪══════════╪═══╪═════╪══════════╪════════════════╪═════════════╡\n",
       "│ 1871   ┆ NA   ┆ BS1    ┆ BNA      ┆ … ┆ 98  ┆ BOS      ┆ BS1            ┆ BS1         │\n",
       "│ 1871   ┆ NA   ┆ CH1    ┆ CNA      ┆ … ┆ 102 ┆ CHI      ┆ CH1            ┆ CH1         │\n",
       "│ 1871   ┆ NA   ┆ CL1    ┆ CFC      ┆ … ┆ 100 ┆ CLE      ┆ CL1            ┆ CL1         │\n",
       "│ 1871   ┆ NA   ┆ FW1    ┆ KEK      ┆ … ┆ 107 ┆ KEK      ┆ FW1            ┆ FW1         │\n",
       "│ 1871   ┆ NA   ┆ NY2    ┆ NNA      ┆ … ┆ 88  ┆ NYU      ┆ NY2            ┆ NY2         │\n",
       "│ …      ┆ …    ┆ …      ┆ …        ┆ … ┆ …   ┆ …        ┆ …              ┆ …           │\n",
       "│ 2019   ┆ NL   ┆ SLN    ┆ STL      ┆ … ┆ 97  ┆ STL      ┆ SLN            ┆ SLN         │\n",
       "│ 2019   ┆ AL   ┆ TBA    ┆ TBD      ┆ … ┆ 96  ┆ TBR      ┆ TBA            ┆ TBA         │\n",
       "│ 2019   ┆ AL   ┆ TEX    ┆ TEX      ┆ … ┆ 112 ┆ TEX      ┆ TEX            ┆ TEX         │\n",
       "│ 2019   ┆ AL   ┆ TOR    ┆ TOR      ┆ … ┆ 98  ┆ TOR      ┆ TOR            ┆ TOR         │\n",
       "│ 2019   ┆ NL   ┆ WAS    ┆ WSN      ┆ … ┆ 104 ┆ WSN      ┆ MON            ┆ WAS         │\n",
       "└────────┴──────┴────────┴──────────┴───┴─────┴──────────┴────────────────┴─────────────┘"
      ]
     },
     "execution_count": 50,
     "metadata": {},
     "output_type": "execute_result"
    }
   ],
   "source": [
    "Team = pl.read_csv(\"./sample_data/baseball/core/Teams.csv\")\n",
    "Team"
   ]
  },
  {
   "cell_type": "code",
   "execution_count": 51,
   "id": "22630b1a-5e4a-46db-8577-001c06e84f83",
   "metadata": {},
   "outputs": [
    {
     "data": {
      "text/html": [
       "<div><style>\n",
       ".dataframe > thead > tr,\n",
       ".dataframe > tbody > tr {\n",
       "  text-align: right;\n",
       "  white-space: pre-wrap;\n",
       "}\n",
       "</style>\n",
       "<small>shape: (5, 3)</small><table border=\"1\" class=\"dataframe\"><thead><tr><th>teamID</th><th>playerID</th><th>HR</th></tr><tr><td>str</td><td>str</td><td>i64</td></tr></thead><tbody><tr><td>&quot;TRO&quot;</td><td>&quot;abercda01&quot;</td><td>0</td></tr><tr><td>&quot;RC1&quot;</td><td>&quot;addybo01&quot;</td><td>0</td></tr><tr><td>&quot;CL1&quot;</td><td>&quot;allisar01&quot;</td><td>0</td></tr><tr><td>&quot;WS3&quot;</td><td>&quot;allisdo01&quot;</td><td>2</td></tr><tr><td>&quot;RC1&quot;</td><td>&quot;ansonca01&quot;</td><td>0</td></tr></tbody></table></div>"
      ],
      "text/plain": [
       "shape: (5, 3)\n",
       "┌────────┬───────────┬─────┐\n",
       "│ teamID ┆ playerID  ┆ HR  │\n",
       "│ ---    ┆ ---       ┆ --- │\n",
       "│ str    ┆ str       ┆ i64 │\n",
       "╞════════╪═══════════╪═════╡\n",
       "│ TRO    ┆ abercda01 ┆ 0   │\n",
       "│ RC1    ┆ addybo01  ┆ 0   │\n",
       "│ CL1    ┆ allisar01 ┆ 0   │\n",
       "│ WS3    ┆ allisdo01 ┆ 2   │\n",
       "│ RC1    ┆ ansonca01 ┆ 0   │\n",
       "└────────┴───────────┴─────┘"
      ]
     },
     "execution_count": 51,
     "metadata": {},
     "output_type": "execute_result"
    }
   ],
   "source": [
    "batting_select = (batting\n",
    "                  .select(['teamID',\n",
    "                           'playerID',\n",
    "                           'HR'])\n",
    "                 )\n",
    "batting_select.head()"
   ]
  },
  {
   "cell_type": "code",
   "execution_count": 53,
   "id": "9d957821-c25b-47c5-8e08-790d83f02c4f",
   "metadata": {},
   "outputs": [
    {
     "data": {
      "text/html": [
       "<div><style>\n",
       ".dataframe > thead > tr,\n",
       ".dataframe > tbody > tr {\n",
       "  text-align: right;\n",
       "  white-space: pre-wrap;\n",
       "}\n",
       "</style>\n",
       "<small>shape: (5, 2)</small><table border=\"1\" class=\"dataframe\"><thead><tr><th>name</th><th>teamID</th></tr><tr><td>str</td><td>str</td></tr></thead><tbody><tr><td>&quot;Boston Red Stockings&quot;</td><td>&quot;BS1&quot;</td></tr><tr><td>&quot;Chicago White Stockings&quot;</td><td>&quot;CH1&quot;</td></tr><tr><td>&quot;Cleveland Forest Citys&quot;</td><td>&quot;CL1&quot;</td></tr><tr><td>&quot;Fort Wayne Kekiongas&quot;</td><td>&quot;FW1&quot;</td></tr><tr><td>&quot;New York Mutuals&quot;</td><td>&quot;NY2&quot;</td></tr></tbody></table></div>"
      ],
      "text/plain": [
       "shape: (5, 2)\n",
       "┌─────────────────────────┬────────┐\n",
       "│ name                    ┆ teamID │\n",
       "│ ---                     ┆ ---    │\n",
       "│ str                     ┆ str    │\n",
       "╞═════════════════════════╪════════╡\n",
       "│ Boston Red Stockings    ┆ BS1    │\n",
       "│ Chicago White Stockings ┆ CH1    │\n",
       "│ Cleveland Forest Citys  ┆ CL1    │\n",
       "│ Fort Wayne Kekiongas    ┆ FW1    │\n",
       "│ New York Mutuals        ┆ NY2    │\n",
       "└─────────────────────────┴────────┘"
      ]
     },
     "execution_count": 53,
     "metadata": {},
     "output_type": "execute_result"
    }
   ],
   "source": [
    "teams_select = (teams.select(['name',\n",
    "                              'teamID',\n",
    "                             ]))\n",
    "teams_select.head()"
   ]
  },
  {
   "cell_type": "code",
   "execution_count": 55,
   "id": "5b555226-d277-4e9a-b1bf-f838a3d6efd1",
   "metadata": {},
   "outputs": [
    {
     "data": {
      "text/html": [
       "<div><style>\n",
       ".dataframe > thead > tr,\n",
       ".dataframe > tbody > tr {\n",
       "  text-align: right;\n",
       "  white-space: pre-wrap;\n",
       "}\n",
       "</style>\n",
       "<small>shape: (5, 2)</small><table border=\"1\" class=\"dataframe\"><thead><tr><th>playerID</th><th>nameGiven</th></tr><tr><td>str</td><td>str</td></tr></thead><tbody><tr><td>&quot;aardsda01&quot;</td><td>&quot;David Allan&quot;</td></tr><tr><td>&quot;aaronha01&quot;</td><td>&quot;Henry Louis&quot;</td></tr><tr><td>&quot;aaronto01&quot;</td><td>&quot;Tommie Lee&quot;</td></tr><tr><td>&quot;aasedo01&quot;</td><td>&quot;Donald William&quot;</td></tr><tr><td>&quot;abadan01&quot;</td><td>&quot;Fausto Andres&quot;</td></tr></tbody></table></div>"
      ],
      "text/plain": [
       "shape: (5, 2)\n",
       "┌───────────┬────────────────┐\n",
       "│ playerID  ┆ nameGiven      │\n",
       "│ ---       ┆ ---            │\n",
       "│ str       ┆ str            │\n",
       "╞═══════════╪════════════════╡\n",
       "│ aardsda01 ┆ David Allan    │\n",
       "│ aaronha01 ┆ Henry Louis    │\n",
       "│ aaronto01 ┆ Tommie Lee     │\n",
       "│ aasedo01  ┆ Donald William │\n",
       "│ abadan01  ┆ Fausto Andres  │\n",
       "└───────────┴────────────────┘"
      ]
     },
     "execution_count": 55,
     "metadata": {},
     "output_type": "execute_result"
    }
   ],
   "source": [
    "People_select = (People.select(['playerID',\n",
    "                              'nameGiven',\n",
    "                             ]))\n",
    "People_select.head()"
   ]
  },
  {
   "cell_type": "code",
   "execution_count": 58,
   "id": "d51c2d0e-2537-46be-a5c4-14769c9597b3",
   "metadata": {},
   "outputs": [
    {
     "data": {
      "text/html": [
       "<div><style>\n",
       ".dataframe > thead > tr,\n",
       ".dataframe > tbody > tr {\n",
       "  text-align: right;\n",
       "  white-space: pre-wrap;\n",
       "}\n",
       "</style>\n",
       "<small>shape: (5, 4)</small><table border=\"1\" class=\"dataframe\"><thead><tr><th>teamID</th><th>playerID</th><th>HR</th><th>name</th></tr><tr><td>str</td><td>str</td><td>i64</td><td>str</td></tr></thead><tbody><tr><td>&quot;TRO&quot;</td><td>&quot;abercda01&quot;</td><td>0</td><td>&quot;Troy Haymakers&quot;</td></tr><tr><td>&quot;TRO&quot;</td><td>&quot;abercda01&quot;</td><td>0</td><td>&quot;Troy Haymakers&quot;</td></tr><tr><td>&quot;RC1&quot;</td><td>&quot;addybo01&quot;</td><td>0</td><td>&quot;Rockford Forest Citys&quot;</td></tr><tr><td>&quot;CL1&quot;</td><td>&quot;allisar01&quot;</td><td>0</td><td>&quot;Cleveland Forest Citys&quot;</td></tr><tr><td>&quot;CL1&quot;</td><td>&quot;allisar01&quot;</td><td>0</td><td>&quot;Cleveland Forest Citys&quot;</td></tr></tbody></table></div>"
      ],
      "text/plain": [
       "shape: (5, 4)\n",
       "┌────────┬───────────┬─────┬────────────────────────┐\n",
       "│ teamID ┆ playerID  ┆ HR  ┆ name                   │\n",
       "│ ---    ┆ ---       ┆ --- ┆ ---                    │\n",
       "│ str    ┆ str       ┆ i64 ┆ str                    │\n",
       "╞════════╪═══════════╪═════╪════════════════════════╡\n",
       "│ TRO    ┆ abercda01 ┆ 0   ┆ Troy Haymakers         │\n",
       "│ TRO    ┆ abercda01 ┆ 0   ┆ Troy Haymakers         │\n",
       "│ RC1    ┆ addybo01  ┆ 0   ┆ Rockford Forest Citys  │\n",
       "│ CL1    ┆ allisar01 ┆ 0   ┆ Cleveland Forest Citys │\n",
       "│ CL1    ┆ allisar01 ┆ 0   ┆ Cleveland Forest Citys │\n",
       "└────────┴───────────┴─────┴────────────────────────┘"
      ]
     },
     "execution_count": 58,
     "metadata": {},
     "output_type": "execute_result"
    }
   ],
   "source": [
    "df_joined = batting_select.join(teams_select, on=['teamID'], how='left')\n",
    "df_joined.head()"
   ]
  },
  {
   "cell_type": "code",
   "execution_count": 59,
   "id": "18c5ba2e-efde-4950-b9b7-d81a518901ad",
   "metadata": {},
   "outputs": [
    {
     "data": {
      "text/html": [
       "<div><style>\n",
       ".dataframe > thead > tr,\n",
       ".dataframe > tbody > tr {\n",
       "  text-align: right;\n",
       "  white-space: pre-wrap;\n",
       "}\n",
       "</style>\n",
       "<small>shape: (5, 5)</small><table border=\"1\" class=\"dataframe\"><thead><tr><th>teamID</th><th>playerID</th><th>HR</th><th>name</th><th>nameGiven</th></tr><tr><td>str</td><td>str</td><td>i64</td><td>str</td><td>str</td></tr></thead><tbody><tr><td>&quot;TRO&quot;</td><td>&quot;abercda01&quot;</td><td>0</td><td>&quot;Troy Haymakers&quot;</td><td>&quot;Francis Patterson&quot;</td></tr><tr><td>&quot;TRO&quot;</td><td>&quot;abercda01&quot;</td><td>0</td><td>&quot;Troy Haymakers&quot;</td><td>&quot;Francis Patterson&quot;</td></tr><tr><td>&quot;RC1&quot;</td><td>&quot;addybo01&quot;</td><td>0</td><td>&quot;Rockford Forest Citys&quot;</td><td>&quot;Robert Edward&quot;</td></tr><tr><td>&quot;CL1&quot;</td><td>&quot;allisar01&quot;</td><td>0</td><td>&quot;Cleveland Forest Citys&quot;</td><td>&quot;Arthur Algernon&quot;</td></tr><tr><td>&quot;CL1&quot;</td><td>&quot;allisar01&quot;</td><td>0</td><td>&quot;Cleveland Forest Citys&quot;</td><td>&quot;Arthur Algernon&quot;</td></tr></tbody></table></div>"
      ],
      "text/plain": [
       "shape: (5, 5)\n",
       "┌────────┬───────────┬─────┬────────────────────────┬───────────────────┐\n",
       "│ teamID ┆ playerID  ┆ HR  ┆ name                   ┆ nameGiven         │\n",
       "│ ---    ┆ ---       ┆ --- ┆ ---                    ┆ ---               │\n",
       "│ str    ┆ str       ┆ i64 ┆ str                    ┆ str               │\n",
       "╞════════╪═══════════╪═════╪════════════════════════╪═══════════════════╡\n",
       "│ TRO    ┆ abercda01 ┆ 0   ┆ Troy Haymakers         ┆ Francis Patterson │\n",
       "│ TRO    ┆ abercda01 ┆ 0   ┆ Troy Haymakers         ┆ Francis Patterson │\n",
       "│ RC1    ┆ addybo01  ┆ 0   ┆ Rockford Forest Citys  ┆ Robert Edward     │\n",
       "│ CL1    ┆ allisar01 ┆ 0   ┆ Cleveland Forest Citys ┆ Arthur Algernon   │\n",
       "│ CL1    ┆ allisar01 ┆ 0   ┆ Cleveland Forest Citys ┆ Arthur Algernon   │\n",
       "└────────┴───────────┴─────┴────────────────────────┴───────────────────┘"
      ]
     },
     "execution_count": 59,
     "metadata": {},
     "output_type": "execute_result"
    }
   ],
   "source": [
    "df_joined2 = df_joined.join(People_select, on=['playerID'], how='left')\n",
    "df_joined2.head()"
   ]
  },
  {
   "cell_type": "code",
   "execution_count": 60,
   "id": "aa5c12f8-0ff5-47af-af2f-602ada5fa92e",
   "metadata": {},
   "outputs": [
    {
     "data": {
      "text/html": [
       "<div><style>\n",
       ".dataframe > thead > tr,\n",
       ".dataframe > tbody > tr {\n",
       "  text-align: right;\n",
       "  white-space: pre-wrap;\n",
       "}\n",
       "</style>\n",
       "<small>shape: (5, 5)</small><table border=\"1\" class=\"dataframe\"><thead><tr><th>teamID</th><th>playerID</th><th>HR</th><th>name</th><th>nameGiven</th></tr><tr><td>str</td><td>str</td><td>i64</td><td>str</td><td>str</td></tr></thead><tbody><tr><td>&quot;NYA&quot;</td><td>&quot;ruthba01&quot;</td><td>54</td><td>&quot;New York Highlanders&quot;</td><td>&quot;George Herman&quot;</td></tr><tr><td>&quot;NYA&quot;</td><td>&quot;ruthba01&quot;</td><td>54</td><td>&quot;New York Highlanders&quot;</td><td>&quot;George Herman&quot;</td></tr><tr><td>&quot;NYA&quot;</td><td>&quot;ruthba01&quot;</td><td>54</td><td>&quot;New York Highlanders&quot;</td><td>&quot;George Herman&quot;</td></tr><tr><td>&quot;NYA&quot;</td><td>&quot;ruthba01&quot;</td><td>54</td><td>&quot;New York Highlanders&quot;</td><td>&quot;George Herman&quot;</td></tr><tr><td>&quot;NYA&quot;</td><td>&quot;ruthba01&quot;</td><td>54</td><td>&quot;New York Highlanders&quot;</td><td>&quot;George Herman&quot;</td></tr></tbody></table></div>"
      ],
      "text/plain": [
       "shape: (5, 5)\n",
       "┌────────┬──────────┬─────┬──────────────────────┬───────────────┐\n",
       "│ teamID ┆ playerID ┆ HR  ┆ name                 ┆ nameGiven     │\n",
       "│ ---    ┆ ---      ┆ --- ┆ ---                  ┆ ---           │\n",
       "│ str    ┆ str      ┆ i64 ┆ str                  ┆ str           │\n",
       "╞════════╪══════════╪═════╪══════════════════════╪═══════════════╡\n",
       "│ NYA    ┆ ruthba01 ┆ 54  ┆ New York Highlanders ┆ George Herman │\n",
       "│ NYA    ┆ ruthba01 ┆ 54  ┆ New York Highlanders ┆ George Herman │\n",
       "│ NYA    ┆ ruthba01 ┆ 54  ┆ New York Highlanders ┆ George Herman │\n",
       "│ NYA    ┆ ruthba01 ┆ 54  ┆ New York Highlanders ┆ George Herman │\n",
       "│ NYA    ┆ ruthba01 ┆ 54  ┆ New York Highlanders ┆ George Herman │\n",
       "└────────┴──────────┴─────┴──────────────────────┴───────────────┘"
      ]
     },
     "execution_count": 60,
     "metadata": {},
     "output_type": "execute_result"
    }
   ],
   "source": [
    "over_thirty_HR = (df_joined2\n",
    "                   .filter(pl.col('HR') > 30)\n",
    "                 )\n",
    "over_thirty_HR.head()"
   ]
  },
  {
   "cell_type": "code",
   "execution_count": 61,
   "id": "87499eb7-f4f9-4338-bbe3-2cd05be6afec",
   "metadata": {},
   "outputs": [
    {
     "data": {
      "text/html": [
       "<div><style>\n",
       ".dataframe > thead > tr,\n",
       ".dataframe > tbody > tr {\n",
       "  text-align: right;\n",
       "  white-space: pre-wrap;\n",
       "}\n",
       "</style>\n",
       "<small>shape: (5, 5)</small><table border=\"1\" class=\"dataframe\"><thead><tr><th>teamID</th><th>playerID</th><th>HR</th><th>name</th><th>nameGiven</th></tr><tr><td>str</td><td>str</td><td>i64</td><td>str</td><td>str</td></tr></thead><tbody><tr><td>&quot;NYA&quot;</td><td>&quot;ruthba01&quot;</td><td>47</td><td>&quot;New York Yankees&quot;</td><td>&quot;George Herman&quot;</td></tr><tr><td>&quot;NYA&quot;</td><td>&quot;nettlgr01&quot;</td><td>37</td><td>&quot;New York Yankees&quot;</td><td>&quot;Graig&quot;</td></tr><tr><td>&quot;TOR&quot;</td><td>&quot;delgaca01&quot;</td><td>32</td><td>&quot;Toronto Blue Jays&quot;</td><td>&quot;Carlos Juan&quot;</td></tr><tr><td>&quot;TOR&quot;</td><td>&quot;wellsve01&quot;</td><td>32</td><td>&quot;Toronto Blue Jays&quot;</td><td>&quot;Vernon M.&quot;</td></tr><tr><td>&quot;CHN&quot;</td><td>&quot;sosasa01&quot;</td><td>35</td><td>&quot;Chicago Cubs&quot;</td><td>&quot;Samuel Peralta&quot;</td></tr></tbody></table></div>"
      ],
      "text/plain": [
       "shape: (5, 5)\n",
       "┌────────┬───────────┬─────┬───────────────────┬────────────────┐\n",
       "│ teamID ┆ playerID  ┆ HR  ┆ name              ┆ nameGiven      │\n",
       "│ ---    ┆ ---       ┆ --- ┆ ---               ┆ ---            │\n",
       "│ str    ┆ str       ┆ i64 ┆ str               ┆ str            │\n",
       "╞════════╪═══════════╪═════╪═══════════════════╪════════════════╡\n",
       "│ NYA    ┆ ruthba01  ┆ 47  ┆ New York Yankees  ┆ George Herman  │\n",
       "│ NYA    ┆ nettlgr01 ┆ 37  ┆ New York Yankees  ┆ Graig          │\n",
       "│ TOR    ┆ delgaca01 ┆ 32  ┆ Toronto Blue Jays ┆ Carlos Juan    │\n",
       "│ TOR    ┆ wellsve01 ┆ 32  ┆ Toronto Blue Jays ┆ Vernon M.      │\n",
       "│ CHN    ┆ sosasa01  ┆ 35  ┆ Chicago Cubs      ┆ Samuel Peralta │\n",
       "└────────┴───────────┴─────┴───────────────────┴────────────────┘"
      ]
     },
     "execution_count": 61,
     "metadata": {},
     "output_type": "execute_result"
    }
   ],
   "source": [
    "df_unique = over_thirty_HR.unique()\n",
    "df_unique.head()"
   ]
  },
  {
   "cell_type": "code",
   "execution_count": 62,
   "id": "eb09215e-f82c-495c-8634-4ec0c4591c65",
   "metadata": {},
   "outputs": [
    {
     "data": {
      "text/html": [
       "<div><style>\n",
       ".dataframe > thead > tr,\n",
       ".dataframe > tbody > tr {\n",
       "  text-align: right;\n",
       "  white-space: pre-wrap;\n",
       "}\n",
       "</style>\n",
       "<small>shape: (5, 2)</small><table border=\"1\" class=\"dataframe\"><thead><tr><th>name</th><th>nameGiven</th></tr><tr><td>str</td><td>str</td></tr></thead><tbody><tr><td>&quot;New York Yankees&quot;</td><td>&quot;George Herman&quot;</td></tr><tr><td>&quot;New York Yankees&quot;</td><td>&quot;Graig&quot;</td></tr><tr><td>&quot;Toronto Blue Jays&quot;</td><td>&quot;Carlos Juan&quot;</td></tr><tr><td>&quot;Toronto Blue Jays&quot;</td><td>&quot;Vernon M.&quot;</td></tr><tr><td>&quot;Chicago Cubs&quot;</td><td>&quot;Samuel Peralta&quot;</td></tr></tbody></table></div>"
      ],
      "text/plain": [
       "shape: (5, 2)\n",
       "┌───────────────────┬────────────────┐\n",
       "│ name              ┆ nameGiven      │\n",
       "│ ---               ┆ ---            │\n",
       "│ str               ┆ str            │\n",
       "╞═══════════════════╪════════════════╡\n",
       "│ New York Yankees  ┆ George Herman  │\n",
       "│ New York Yankees  ┆ Graig          │\n",
       "│ Toronto Blue Jays ┆ Carlos Juan    │\n",
       "│ Toronto Blue Jays ┆ Vernon M.      │\n",
       "│ Chicago Cubs      ┆ Samuel Peralta │\n",
       "└───────────────────┴────────────────┘"
      ]
     },
     "execution_count": 62,
     "metadata": {},
     "output_type": "execute_result"
    }
   ],
   "source": [
    "HR_select = (df_unique.select(['name',\n",
    "                              'nameGiven',\n",
    "                             ]))\n",
    "HR_select.head()"
   ]
  },
  {
   "cell_type": "markdown",
   "id": "9af4b290",
   "metadata": {},
   "source": [
    "## Joins are expensive!\n",
    "\n",
    "**Be careful when joining large tables!! Especially for full outer joins!!!**\n",
    "\n",
    "When joining table `A` to table `B`, \n",
    "\n",
    "* `inner_join` performs `min(len(A), len(B))` comparisons\n",
    "* `outer_join` performs `len(A)*len(B)` row comparisons.\n",
    "* `left_join` and `right_join` are somewhere inbetween (depending on how we treat multiples)."
   ]
  },
  {
   "cell_type": "markdown",
   "id": "4610e077",
   "metadata": {},
   "source": [
    "## Outer joins (can) produce LARGE tables.\n",
    "\n",
    "**Be careful when joining large tables!! Especially for full outer joins!!!**\n",
    "\n",
    "When joining table `A` to table `B`, \n",
    "\n",
    "* `outer_join` might produce `len(A)*len(B)` rows (worst case)\n",
    "* `left_join` and `right_join` are similar if we don't drop multiples."
   ]
  },
  {
   "cell_type": "markdown",
   "id": "9091f3d5-7e65-482d-863e-9d4487fabdc2",
   "metadata": {},
   "source": [
    "### Example - Incorrect join of `batting` and `teams`\n",
    "\n",
    "Suppose that, when joining the batting and teams table, we forget to include the `yearID` as a key"
   ]
  },
  {
   "cell_type": "code",
   "execution_count": 33,
   "id": "1cddf5cd-a81d-4318-816e-70827c9dc000",
   "metadata": {},
   "outputs": [
    {
     "data": {
      "text/plain": [
       "(107429, 22)"
      ]
     },
     "execution_count": 33,
     "metadata": {},
     "output_type": "execute_result"
    }
   ],
   "source": [
    "batting.shape"
   ]
  },
  {
   "cell_type": "code",
   "execution_count": 34,
   "id": "bde4d615-f7c6-47d3-ab2e-eeca979f0e04",
   "metadata": {},
   "outputs": [
    {
     "data": {
      "text/plain": [
       "(2925, 48)"
      ]
     },
     "execution_count": 34,
     "metadata": {},
     "output_type": "execute_result"
    }
   ],
   "source": [
    "teams.shape"
   ]
  },
  {
   "cell_type": "code",
   "execution_count": 35,
   "id": "d532d5db-4948-42b8-accd-18038a705aad",
   "metadata": {},
   "outputs": [],
   "source": [
    "BAD = batting.join(teams, on='teamID', how='full')"
   ]
  },
  {
   "cell_type": "code",
   "execution_count": 36,
   "id": "ffb24a08-1592-4d1b-b0e0-46dba452616d",
   "metadata": {},
   "outputs": [
    {
     "data": {
      "text/plain": [
       "(8699563, 70)"
      ]
     },
     "execution_count": 36,
     "metadata": {},
     "output_type": "execute_result"
    }
   ],
   "source": [
    "# the output EXPLODED!!!1!!one!\n",
    "BAD.shape"
   ]
  },
  {
   "cell_type": "markdown",
   "id": "513cac52",
   "metadata": {},
   "source": [
    "#### Last example "
   ]
  },
  {
   "cell_type": "code",
   "execution_count": 37,
   "id": "12ec8b5a",
   "metadata": {},
   "outputs": [
    {
     "data": {
      "text/plain": [
       "314229825"
      ]
     },
     "execution_count": 37,
     "metadata": {},
     "output_type": "execute_result"
    }
   ],
   "source": [
    "len(batting_select)*len(teams_select)"
   ]
  },
  {
   "cell_type": "markdown",
   "id": "bc209673",
   "metadata": {},
   "source": [
    "## The joining mantra: Filter/aggregate THEN join\n",
    "\n",
    "By filtering and/or aggregating before joining, you will\n",
    "\n",
    "* reduce the amount of work\n",
    "* protect against really large output"
   ]
  },
  {
   "cell_type": "markdown",
   "id": "c7431b36",
   "metadata": {},
   "source": [
    "#### Filter and aggregate to total runs per team per year"
   ]
  },
  {
   "cell_type": "code",
   "execution_count": 38,
   "id": "91c404c6",
   "metadata": {},
   "outputs": [
    {
     "data": {
      "text/html": [
       "<div><style>\n",
       ".dataframe > thead > tr,\n",
       ".dataframe > tbody > tr {\n",
       "  text-align: right;\n",
       "  white-space: pre-wrap;\n",
       "}\n",
       "</style>\n",
       "<small>shape: (5, 2)</small><table border=\"1\" class=\"dataframe\"><thead><tr><th>teamID</th><th>total_runs</th></tr><tr><td>str</td><td>i64</td></tr></thead><tbody><tr><td>&quot;BOS&quot;</td><td>872</td></tr><tr><td>&quot;SEA&quot;</td><td>640</td></tr><tr><td>&quot;SFN&quot;</td><td>657</td></tr><tr><td>&quot;LAA&quot;</td><td>883</td></tr><tr><td>&quot;ATL&quot;</td><td>735</td></tr></tbody></table></div>"
      ],
      "text/plain": [
       "shape: (5, 2)\n",
       "┌────────┬────────────┐\n",
       "│ teamID ┆ total_runs │\n",
       "│ ---    ┆ ---        │\n",
       "│ str    ┆ i64        │\n",
       "╞════════╪════════════╡\n",
       "│ BOS    ┆ 872        │\n",
       "│ SEA    ┆ 640        │\n",
       "│ SFN    ┆ 657        │\n",
       "│ LAA    ┆ 883        │\n",
       "│ ATL    ┆ 735        │\n",
       "└────────┴────────────┘"
      ]
     },
     "execution_count": 38,
     "metadata": {},
     "output_type": "execute_result"
    }
   ],
   "source": [
    "runs = (batting_select\n",
    "        .filter(pl.col('yearID') == 2009)\n",
    "        .group_by(pl.col('teamID'))\n",
    "        .agg(pl.col('R').sum().alias('total_runs')))\n",
    "\n",
    "runs.head()"
   ]
  },
  {
   "cell_type": "markdown",
   "id": "3f67b03f",
   "metadata": {},
   "source": [
    "#### Filter down to 2009 teams"
   ]
  },
  {
   "cell_type": "code",
   "execution_count": 39,
   "id": "2e183a75",
   "metadata": {},
   "outputs": [
    {
     "data": {
      "text/html": [
       "<div><style>\n",
       ".dataframe > thead > tr,\n",
       ".dataframe > tbody > tr {\n",
       "  text-align: right;\n",
       "  white-space: pre-wrap;\n",
       "}\n",
       "</style>\n",
       "<small>shape: (5, 4)</small><table border=\"1\" class=\"dataframe\"><thead><tr><th>yearID</th><th>teamID</th><th>name</th><th>park</th></tr><tr><td>i64</td><td>str</td><td>str</td><td>str</td></tr></thead><tbody><tr><td>2009</td><td>&quot;ARI&quot;</td><td>&quot;Arizona Diamondbacks&quot;</td><td>&quot;Chase Field&quot;</td></tr><tr><td>2009</td><td>&quot;ATL&quot;</td><td>&quot;Atlanta Braves&quot;</td><td>&quot;Turner Field&quot;</td></tr><tr><td>2009</td><td>&quot;BAL&quot;</td><td>&quot;Baltimore Orioles&quot;</td><td>&quot;Oriole Park at Camden Yards&quot;</td></tr><tr><td>2009</td><td>&quot;BOS&quot;</td><td>&quot;Boston Red Sox&quot;</td><td>&quot;Fenway Park II&quot;</td></tr><tr><td>2009</td><td>&quot;CHA&quot;</td><td>&quot;Chicago White Sox&quot;</td><td>&quot;U.S. Cellular Field&quot;</td></tr></tbody></table></div>"
      ],
      "text/plain": [
       "shape: (5, 4)\n",
       "┌────────┬────────┬──────────────────────┬─────────────────────────────┐\n",
       "│ yearID ┆ teamID ┆ name                 ┆ park                        │\n",
       "│ ---    ┆ ---    ┆ ---                  ┆ ---                         │\n",
       "│ i64    ┆ str    ┆ str                  ┆ str                         │\n",
       "╞════════╪════════╪══════════════════════╪═════════════════════════════╡\n",
       "│ 2009   ┆ ARI    ┆ Arizona Diamondbacks ┆ Chase Field                 │\n",
       "│ 2009   ┆ ATL    ┆ Atlanta Braves       ┆ Turner Field                │\n",
       "│ 2009   ┆ BAL    ┆ Baltimore Orioles    ┆ Oriole Park at Camden Yards │\n",
       "│ 2009   ┆ BOS    ┆ Boston Red Sox       ┆ Fenway Park II              │\n",
       "│ 2009   ┆ CHA    ┆ Chicago White Sox    ┆ U.S. Cellular Field         │\n",
       "└────────┴────────┴──────────────────────┴─────────────────────────────┘"
      ]
     },
     "execution_count": 39,
     "metadata": {},
     "output_type": "execute_result"
    }
   ],
   "source": [
    "teams09 = (teams_select\n",
    "           .filter(pl.col('yearID') == 2009)\n",
    "          )\n",
    "teams09.head()"
   ]
  },
  {
   "cell_type": "code",
   "execution_count": 40,
   "id": "46fa7a66",
   "metadata": {},
   "outputs": [
    {
     "data": {
      "text/plain": [
       "900"
      ]
     },
     "execution_count": 40,
     "metadata": {},
     "output_type": "execute_result"
    }
   ],
   "source": [
    "len(runs)*len(teams09)"
   ]
  },
  {
   "cell_type": "code",
   "execution_count": 41,
   "id": "0e51e84c",
   "metadata": {},
   "outputs": [
    {
     "data": {
      "text/html": [
       "<div><style>\n",
       ".dataframe > thead > tr,\n",
       ".dataframe > tbody > tr {\n",
       "  text-align: right;\n",
       "  white-space: pre-wrap;\n",
       "}\n",
       "</style>\n",
       "<small>shape: (5, 4)</small><table border=\"1\" class=\"dataframe\"><thead><tr><th>total_runs</th><th>yearID</th><th>name</th><th>park</th></tr><tr><td>i64</td><td>i64</td><td>str</td><td>str</td></tr></thead><tbody><tr><td>872</td><td>2009</td><td>&quot;Boston Red Sox&quot;</td><td>&quot;Fenway Park II&quot;</td></tr><tr><td>640</td><td>2009</td><td>&quot;Seattle Mariners&quot;</td><td>&quot;Safeco Field&quot;</td></tr><tr><td>657</td><td>2009</td><td>&quot;San Francisco Giants&quot;</td><td>&quot;AT&amp;T Park&quot;</td></tr><tr><td>883</td><td>2009</td><td>&quot;Los Angeles Angels of Anaheim&quot;</td><td>&quot;Angel Stadium&quot;</td></tr><tr><td>735</td><td>2009</td><td>&quot;Atlanta Braves&quot;</td><td>&quot;Turner Field&quot;</td></tr></tbody></table></div>"
      ],
      "text/plain": [
       "shape: (5, 4)\n",
       "┌────────────┬────────┬───────────────────────────────┬────────────────┐\n",
       "│ total_runs ┆ yearID ┆ name                          ┆ park           │\n",
       "│ ---        ┆ ---    ┆ ---                           ┆ ---            │\n",
       "│ i64        ┆ i64    ┆ str                           ┆ str            │\n",
       "╞════════════╪════════╪═══════════════════════════════╪════════════════╡\n",
       "│ 872        ┆ 2009   ┆ Boston Red Sox                ┆ Fenway Park II │\n",
       "│ 640        ┆ 2009   ┆ Seattle Mariners              ┆ Safeco Field   │\n",
       "│ 657        ┆ 2009   ┆ San Francisco Giants          ┆ AT&T Park      │\n",
       "│ 883        ┆ 2009   ┆ Los Angeles Angels of Anaheim ┆ Angel Stadium  │\n",
       "│ 735        ┆ 2009   ┆ Atlanta Braves                ┆ Turner Field   │\n",
       "└────────────┴────────┴───────────────────────────────┴────────────────┘"
      ]
     },
     "execution_count": 41,
     "metadata": {},
     "output_type": "execute_result"
    }
   ],
   "source": [
    "runs_per_team09_new = (runs \n",
    "                       .join(teams09, on='teamID', how='left')\n",
    "                       .drop('teamID')\n",
    "                      )\n",
    "runs_per_team09_new.head()"
   ]
  },
  {
   "cell_type": "code",
   "execution_count": 42,
   "id": "40b92f96",
   "metadata": {},
   "outputs": [
    {
     "data": {
      "text/plain": [
       "(30, 4)"
      ]
     },
     "execution_count": 42,
     "metadata": {},
     "output_type": "execute_result"
    }
   ],
   "source": [
    "runs_per_team09_new.shape"
   ]
  },
  {
   "cell_type": "markdown",
   "id": "9684ce4d",
   "metadata": {},
   "source": [
    "## Don't worry about speed until it matters!\n",
    "\n",
    "* I don't emphasize speed most of the time.\n",
    "* In this case, either approach was nearly instant.\n",
    "* Still ... `join`s are *so dangerous* that I make an exception here!"
   ]
  },
  {
   "cell_type": "code",
   "execution_count": 43,
   "id": "9a022558",
   "metadata": {
    "slideshow": {
     "slide_type": "fragment"
    }
   },
   "outputs": [],
   "source": [
    "# Your code here"
   ]
  }
 ],
 "metadata": {
  "celltoolbar": "Slideshow",
  "kernelspec": {
   "display_name": "Python 3 (ipykernel)",
   "language": "python",
   "name": "python3"
  },
  "language_info": {
   "codemirror_mode": {
    "name": "ipython",
    "version": 3
   },
   "file_extension": ".py",
   "mimetype": "text/x-python",
   "name": "python",
   "nbconvert_exporter": "python",
   "pygments_lexer": "ipython3",
   "version": "3.12.5"
  },
  "varInspector": {
   "cols": {
    "lenName": 16,
    "lenType": 16,
    "lenVar": 40
   },
   "kernels_config": {
    "python": {
     "delete_cmd_postfix": "",
     "delete_cmd_prefix": "del ",
     "library": "var_list.py",
     "varRefreshCmd": "print(var_dic_list())"
    },
    "r": {
     "delete_cmd_postfix": ") ",
     "delete_cmd_prefix": "rm(",
     "library": "var_list.r",
     "varRefreshCmd": "cat(var_dic_list()) "
    }
   },
   "types_to_exclude": [
    "module",
    "function",
    "builtin_function_or_method",
    "instance",
    "_Feature"
   ],
   "window_display": false
  }
 },
 "nbformat": 4,
 "nbformat_minor": 5
}
